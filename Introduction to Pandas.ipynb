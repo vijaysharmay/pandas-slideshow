{
 "metadata": {
  "name": "",
  "signature": "sha256:c6f7ac93866c8b8298908542a3b82e85bca2a454449b14cc882ead0ed0bde1d3"
 },
 "nbformat": 3,
 "nbformat_minor": 0,
 "worksheets": [
  {
   "cells": [
    {
     "cell_type": "markdown",
     "metadata": {
      "internals": {
       "slide_helper": "subslide_end",
       "slide_type": "subslide"
      },
      "slide_helper": "slide_end",
      "slideshow": {
       "slide_type": "slide"
      }
     },
     "source": [
      "<link rel=\"stylesheet\" href=\"http://maxcdn.bootstrapcdn.com/bootswatch/3.2.0/cerulean/bootstrap.min.css\">\n",
      "<h1 align='center'>Pandas</h1>\n",
      "<h4 align='center'>A look at one of python's most famous data analysis libraries</h4>"
     ]
    },
    {
     "cell_type": "markdown",
     "metadata": {
      "internals": {
       "slide_helper": "subslide_end",
       "slide_type": "subslide"
      },
      "slide_helper": "slide_end",
      "slideshow": {
       "slide_type": "slide"
      }
     },
     "source": [
      "### Talk Overview\n",
      "\n",
      "- What do we exactly mean by data analysis?\n",
      "- How useful is python\u2019s standard library for data analysis?\n",
      "- Pandas Overview\n",
      "- Use Case #1 : The IPL Player Hunt\n",
      "- Use Case #2 : The Curious Case of the Hollywood Director\n",
      "- Q & A"
     ]
    },
    {
     "cell_type": "markdown",
     "metadata": {
      "internals": {
       "slide_helper": "subslide_end",
       "slide_type": "subslide"
      },
      "slide_helper": "subslide_end",
      "slideshow": {
       "slide_type": "slide"
      }
     },
     "source": [
      "<p>Data Analysis can be defined as the process of inspecting, cleaning, transforming, and modeling\u00a0data\u00a0with the goal of discovering useful\u00a0information and supporting decision making.</p>"
     ]
    },
    {
     "cell_type": "markdown",
     "metadata": {
      "internals": {
       "slide_helper": "subslide_end",
       "slide_type": "subslide"
      },
      "slide_helper": "subslide_end",
      "slideshow": {
       "slide_type": "subslide"
      }
     },
     "source": [
      "<p>Includes predictive analytics, statistical modelling, ETL, machine learning and data visualization.</p>"
     ]
    },
    {
     "cell_type": "markdown",
     "metadata": {
      "internals": {
       "slide_helper": "subslide_end",
       "slide_type": "subslide"
      },
      "slide_helper": "subslide_end",
      "slideshow": {
       "slide_type": "subslide"
      }
     },
     "source": [
      "Can be broadly classified into Confirmatory DA,Exploratory DA & Qualitative DA"
     ]
    },
    {
     "cell_type": "heading",
     "level": 1,
     "metadata": {
      "internals": {
       "slide_helper": "subslide_end",
       "slide_type": "subslide"
      },
      "slide_helper": "slide_end",
      "slideshow": {
       "slide_type": "subslide"
      }
     },
     "source": [
      "\n",
      "<h4 align='center'>The Tools of the Trade</h4>\n",
      "<ul type=\"square\">\n",
      "\t<li>R</li>\n",
      "\t<li>SAS</li>\n",
      "\t<li>MATLAB</li>\n",
      "\t<li>OCTAVE</li>\n",
      "\t<li>Stata</li>\n",
      "\t<li>Excel (Don\u2019t be surprised)</li>\n",
      "\t<li>Mathematica</li>\n",
      "</ul>\n",
      "<p>And ofcourse there's pandas !</p>\n"
     ]
    },
    {
     "cell_type": "markdown",
     "metadata": {
      "internals": {
       "slide_helper": "subslide_end",
       "slide_type": "subslide"
      },
      "slide_helper": "subslide_end",
      "slideshow": {
       "slide_type": "slide"
      }
     },
     "source": [
      "<h4 align='center'>Does Python or it's Standard Library help?</h4>"
     ]
    },
    {
     "cell_type": "markdown",
     "metadata": {
      "internals": {
       "slide_helper": "subslide_end",
       "slide_type": "subslide"
      },
      "slide_helper": "slide_end",
      "slideshow": {
       "slide_type": "subslide"
      }
     },
     "source": [
      "<p align='center'>Lets Look at what python offers:</p>\n",
      "<ul type=\"square\">\n",
      "\t<li>Ability to parse data from csv\u2019s, databases(like mysql, postgresql) and JSON/pickle based data formats.</li>\n",
      "\t<li>Can parse HTML/XML type documents, which is useful for assembling data from web.</li>\n",
      "\t<li>Can parse audio/video data using audioop/imageop.</li>\n",
      "\t<li>Collections, heapq, blist and few other data structures.</li>\n",
      "\t<li>Python\u2019s readability and huge community.</li>\n",
      "</ul>\n",
      "<br>\n",
      "<h3 align='center'>But we can do better !</h3>"
     ]
    },
    {
     "cell_type": "markdown",
     "metadata": {
      "internals": {
       "slide_helper": "subslide_end",
       "slide_type": "subslide"
      },
      "slide_helper": "subslide_end",
      "slideshow": {
       "slide_type": "slide"
      }
     },
     "source": [
      "# What is Pandas?\n",
      "\n",
      "**pandas** is a Python package providing fast, flexible, and expressive data structures designed to work with *relational* or *labeled* data both. It is a fundamental high-level building block for doing practical, real world data analysis in Python. \n",
      "\n",
      "It was born as a part of **Wes McKinney**'s efforts at *AQR Capital Management* to have a cross over between python's general purpose features and R's data analysis functionalities.\n",
      "\n",
      "code @ https://github.com/pydata/pandas - BSD License\n",
      "\n",
      "pandas is well suited for:\n",
      "\n",
      "- Tabular data with heterogeneously-typed columns, as in an SQL table or Excel spreadsheet\n",
      "- Ordered and unordered (not necessarily fixed-frequency) time series data.\n",
      "- Arbitrary matrix data (homogeneously typed or heterogeneous) with row and column labels\n",
      "- Any other form of observational / statistical data sets. The data actually need not be labeled at all to be placed into a pandas data structure"
     ]
    },
    {
     "cell_type": "markdown",
     "metadata": {
      "internals": {
       "slide_helper": "subslide_end",
       "slide_type": "subslide"
      },
      "slide_helper": "slide_end",
      "slideshow": {
       "slide_type": "subslide"
      }
     },
     "source": [
      "### Key features:\n",
      "    \n",
      "- Easy handling of **missing data**\n",
      "- **Size mutability**: columns can be inserted and deleted from DataFrame and higher dimensional objects\n",
      "- Automatic and explicit **data alignment**: objects can be explicitly aligned to a set of labels, or the data can be aligned automatically\n",
      "- Powerful, flexible **group by functionality** to perform split-apply-combine operations on data sets\n",
      "- Intelligent label-based **slicing, fancy indexing, and subsetting** of large data sets\n",
      "- Intuitive **merging and joining** data sets\n",
      "- Flexible **reshaping and pivoting** of data sets\n",
      "- **Hierarchical labeling** of axes\n",
      "- Robust **IO tools** for loading data from flat files, Excel files, databases, and HDF5\n",
      "- **Time series functionality**: date range generation and frequency conversion, moving window statistics, moving window linear regressions, date shifting and lagging, etc."
     ]
    },
    {
     "cell_type": "code",
     "collapsed": false,
     "input": [
      "# Lets get started with Pandas\n",
      "import pandas as pd\n",
      "import numpy as np\n",
      "import matplotlib.pyplot as plt"
     ],
     "language": "python",
     "metadata": {
      "internals": {
       "slide_helper": "subslide_end",
       "slide_type": "subslide"
      },
      "slide_helper": "slide_end",
      "slideshow": {
       "slide_type": "slide"
      }
     },
     "outputs": [],
     "prompt_number": 4
    },
    {
     "cell_type": "markdown",
     "metadata": {
      "internals": {
       "slide_helper": "subslide_end",
       "slide_type": "subslide"
      },
      "slide_helper": "slide_end",
      "slideshow": {
       "slide_type": "slide"
      }
     },
     "source": [
      "### Pandas Data Structures"
     ]
    },
    {
     "cell_type": "markdown",
     "metadata": {
      "internals": {
       "frag_number": 12,
       "slide_type": "subslide"
      },
      "slideshow": {
       "slide_type": "slide"
      }
     },
     "source": [
      "### Series\n",
      "\n",
      "A **Series** is a single vector of data (like a NumPy array) with an *index* that labels each element in the vector."
     ]
    },
    {
     "cell_type": "code",
     "collapsed": false,
     "input": [
      "counts = pd.Series([632, 1638, 569, 115, 90])\n",
      "counts"
     ],
     "language": "python",
     "metadata": {
      "internals": {
       "frag_helper": "fragment_end",
       "frag_number": 13
      },
      "slideshow": {
       "slide_type": "fragment"
      }
     },
     "outputs": [
      {
       "metadata": {},
       "output_type": "pyout",
       "prompt_number": 5,
       "text": [
        "0     632\n",
        "1    1638\n",
        "2     569\n",
        "3     115\n",
        "4      90\n",
        "dtype: int64"
       ]
      }
     ],
     "prompt_number": 5
    },
    {
     "cell_type": "code",
     "collapsed": false,
     "input": [
      "pd.Series({x:x**2 for x in range(5)})"
     ],
     "language": "python",
     "metadata": {},
     "outputs": [
      {
       "metadata": {},
       "output_type": "pyout",
       "prompt_number": 231,
       "text": [
        "0     0\n",
        "1     1\n",
        "2     4\n",
        "3     9\n",
        "4    16\n",
        "dtype: int64"
       ]
      }
     ],
     "prompt_number": 231
    },
    {
     "cell_type": "code",
     "collapsed": false,
     "input": [
      "counts.values"
     ],
     "language": "python",
     "metadata": {
      "internals": {
       "frag_helper": "fragment_end",
       "frag_number": 14
      },
      "slideshow": {
       "slide_type": "fragment"
      }
     },
     "outputs": [
      {
       "metadata": {},
       "output_type": "pyout",
       "prompt_number": 6,
       "text": [
        "array([ 632, 1638,  569,  115,   90])"
       ]
      }
     ],
     "prompt_number": 6
    },
    {
     "cell_type": "code",
     "collapsed": false,
     "input": [
      "counts.index"
     ],
     "language": "python",
     "metadata": {
      "internals": {
       "frag_helper": "fragment_end",
       "frag_number": 15
      },
      "slideshow": {
       "slide_type": "fragment"
      }
     },
     "outputs": [
      {
       "metadata": {},
       "output_type": "pyout",
       "prompt_number": 7,
       "text": [
        "Int64Index([0, 1, 2, 3, 4], dtype='int64')"
       ]
      }
     ],
     "prompt_number": 7
    },
    {
     "cell_type": "code",
     "collapsed": false,
     "input": [
      "x = pd.Series([632, 1638, 569, 115], \n",
      "    index=['a', 'b', 'c', 'd'])\n",
      "\n",
      "x['a']"
     ],
     "language": "python",
     "metadata": {
      "internals": {
       "frag_helper": "fragment_end",
       "frag_number": 16
      },
      "slideshow": {
       "slide_type": "fragment"
      }
     },
     "outputs": [
      {
       "metadata": {},
       "output_type": "pyout",
       "prompt_number": 233,
       "text": [
        "632"
       ]
      }
     ],
     "prompt_number": 233
    },
    {
     "cell_type": "code",
     "collapsed": false,
     "input": [
      "np.log(x)"
     ],
     "language": "python",
     "metadata": {
      "internals": {
       "frag_helper": "fragment_end",
       "frag_number": 17
      },
      "slideshow": {
       "slide_type": "fragment"
      }
     },
     "outputs": [
      {
       "metadata": {},
       "output_type": "pyout",
       "prompt_number": 9,
       "text": [
        "a    6.448889\n",
        "b    7.401231\n",
        "c    6.343880\n",
        "d    4.744932\n",
        "dtype: float64"
       ]
      }
     ],
     "prompt_number": 9
    },
    {
     "cell_type": "code",
     "collapsed": false,
     "input": [
      "x[x == 115]"
     ],
     "language": "python",
     "metadata": {
      "internals": {
       "frag_helper": "fragment_end",
       "frag_number": 18
      },
      "slideshow": {
       "slide_type": "fragment"
      }
     },
     "outputs": [
      {
       "metadata": {},
       "output_type": "pyout",
       "prompt_number": 236,
       "text": [
        "d    115\n",
        "dtype: int64"
       ]
      }
     ],
     "prompt_number": 236
    },
    {
     "cell_type": "code",
     "collapsed": false,
     "input": [
      "sample_dict = {x:x**2 for x in range(1,10)}\n",
      "series_from_dict_1 = pd.Series(sample_dict)\n",
      "series_from_dict_2 = pd.Series(sample_dict.values(),index=list(range(31,40)))\n",
      "\n",
      "print series_from_dict_1\n",
      "print series_from_dict_2"
     ],
     "language": "python",
     "metadata": {
      "internals": {
       "frag_helper": "fragment_end",
       "frag_number": 19
      },
      "slideshow": {
       "slide_type": "fragment"
      }
     },
     "outputs": [
      {
       "output_type": "stream",
       "stream": "stdout",
       "text": [
        "1     1\n",
        "2     4\n",
        "3     9\n",
        "4    16\n",
        "5    25\n",
        "6    36\n",
        "7    49\n",
        "8    64\n",
        "9    81\n",
        "dtype: int64\n",
        "31     1\n",
        "32     4\n",
        "33     9\n",
        "34    16\n",
        "35    25\n",
        "36    36\n",
        "37    49\n",
        "38    64\n",
        "39    81\n",
        "dtype: int64\n"
       ]
      }
     ],
     "prompt_number": 11
    },
    {
     "cell_type": "code",
     "collapsed": false,
     "input": [
      "sample_dict = {x:x**2 for x in range(1,10)}\n",
      "series_from_dict_1 = pd.Series(sample_dict)\n",
      "series_from_dict_2 = pd.Series([x*2 for x in sample_dict.values()])\n",
      "\n",
      "final_series = series_from_dict_1 + series_from_dict_2\n",
      "print final_series"
     ],
     "language": "python",
     "metadata": {
      "internals": {
       "frag_helper": "fragment_end",
       "frag_number": 20
      },
      "slideshow": {
       "slide_type": "fragment"
      }
     },
     "outputs": [
      {
       "output_type": "stream",
       "stream": "stdout",
       "text": [
        "0    NaN\n",
        "1      9\n",
        "2     22\n",
        "3     41\n",
        "4     66\n",
        "5     97\n",
        "6    134\n",
        "7    177\n",
        "8    226\n",
        "9    NaN\n",
        "dtype: float64\n"
       ]
      }
     ],
     "prompt_number": 12
    },
    {
     "cell_type": "code",
     "collapsed": false,
     "input": [
      "final_series.isnull()"
     ],
     "language": "python",
     "metadata": {
      "internals": {
       "frag_helper": "fragment_end",
       "frag_number": 21
      },
      "slideshow": {
       "slide_type": "fragment"
      }
     },
     "outputs": [
      {
       "metadata": {},
       "output_type": "pyout",
       "prompt_number": 13,
       "text": [
        "0     True\n",
        "1    False\n",
        "2    False\n",
        "3    False\n",
        "4    False\n",
        "5    False\n",
        "6    False\n",
        "7    False\n",
        "8    False\n",
        "9     True\n",
        "dtype: bool"
       ]
      }
     ],
     "prompt_number": 13
    },
    {
     "cell_type": "code",
     "collapsed": false,
     "input": [
      "final_series[final_series.isnull()]"
     ],
     "language": "python",
     "metadata": {
      "internals": {
       "frag_helper": "fragment_end",
       "frag_number": 22,
       "slide_helper": "subslide_end"
      },
      "slide_helper": "slide_end",
      "slideshow": {
       "slide_type": "fragment"
      }
     },
     "outputs": [
      {
       "metadata": {},
       "output_type": "pyout",
       "prompt_number": 14,
       "text": [
        "0   NaN\n",
        "9   NaN\n",
        "dtype: float64"
       ]
      }
     ],
     "prompt_number": 14
    },
    {
     "cell_type": "markdown",
     "metadata": {
      "internals": {
       "frag_helper": "fragment_end",
       "frag_number": 22,
       "slide_helper": "subslide_end",
       "slide_type": "subslide"
      },
      "slide_helper": "subslide_end",
      "slideshow": {
       "slide_type": "slide"
      }
     },
     "source": [
      "### DataFrame\n",
      "\n",
      "A `DataFrame` is a tabular data structure, encapsulating multiple series like columns in a spreadsheet. Data are stored internally as a 2-dimensional object, but the `DataFrame` allows us to represent and manipulate higher-dimensional data.\n"
     ]
    },
    {
     "cell_type": "code",
     "collapsed": false,
     "input": [
      "data = pd.DataFrame({'rent':[15000, 16380, 15690, 11510, 14330, 11130, 17154, 15155],\n",
      "                     'no_of_rooms':[1, 1, 1, 1, 2, 2, 2, 2],\n",
      "                     'city':['Hyderabad', 'Bangalore', 'Pune','Mumbai', 'Hyderabad', 'Bangalore', 'Pune', 'Mumbai']})\n",
      "data"
     ],
     "language": "python",
     "metadata": {
      "internals": {
       "frag_helper": "fragment_end",
       "frag_number": 22,
       "slide_type": "subslide"
      },
      "slideshow": {
       "slide_type": "subslide"
      }
     },
     "outputs": [
      {
       "html": [
        "<div style=\"max-height:1000px;max-width:1500px;overflow:auto;\">\n",
        "<table border=\"1\" class=\"dataframe\">\n",
        "  <thead>\n",
        "    <tr style=\"text-align: right;\">\n",
        "      <th></th>\n",
        "      <th>city</th>\n",
        "      <th>no_of_rooms</th>\n",
        "      <th>rent</th>\n",
        "    </tr>\n",
        "  </thead>\n",
        "  <tbody>\n",
        "    <tr>\n",
        "      <th>0</th>\n",
        "      <td> Hyderabad</td>\n",
        "      <td> 1</td>\n",
        "      <td> 15000</td>\n",
        "    </tr>\n",
        "    <tr>\n",
        "      <th>1</th>\n",
        "      <td> Bangalore</td>\n",
        "      <td> 1</td>\n",
        "      <td> 16380</td>\n",
        "    </tr>\n",
        "    <tr>\n",
        "      <th>2</th>\n",
        "      <td>      Pune</td>\n",
        "      <td> 1</td>\n",
        "      <td> 15690</td>\n",
        "    </tr>\n",
        "    <tr>\n",
        "      <th>3</th>\n",
        "      <td>    Mumbai</td>\n",
        "      <td> 1</td>\n",
        "      <td> 11510</td>\n",
        "    </tr>\n",
        "    <tr>\n",
        "      <th>4</th>\n",
        "      <td> Hyderabad</td>\n",
        "      <td> 2</td>\n",
        "      <td> 14330</td>\n",
        "    </tr>\n",
        "    <tr>\n",
        "      <th>5</th>\n",
        "      <td> Bangalore</td>\n",
        "      <td> 2</td>\n",
        "      <td> 11130</td>\n",
        "    </tr>\n",
        "    <tr>\n",
        "      <th>6</th>\n",
        "      <td>      Pune</td>\n",
        "      <td> 2</td>\n",
        "      <td> 17154</td>\n",
        "    </tr>\n",
        "    <tr>\n",
        "      <th>7</th>\n",
        "      <td>    Mumbai</td>\n",
        "      <td> 2</td>\n",
        "      <td> 15155</td>\n",
        "    </tr>\n",
        "  </tbody>\n",
        "</table>\n",
        "</div>"
       ],
       "metadata": {},
       "output_type": "pyout",
       "prompt_number": 15,
       "text": [
        "        city  no_of_rooms   rent\n",
        "0  Hyderabad            1  15000\n",
        "1  Bangalore            1  16380\n",
        "2       Pune            1  15690\n",
        "3     Mumbai            1  11510\n",
        "4  Hyderabad            2  14330\n",
        "5  Bangalore            2  11130\n",
        "6       Pune            2  17154\n",
        "7     Mumbai            2  15155"
       ]
      }
     ],
     "prompt_number": 15
    },
    {
     "cell_type": "code",
     "collapsed": false,
     "input": [
      "print data.columns\n",
      "print data.index"
     ],
     "language": "python",
     "metadata": {
      "internals": {
       "frag_helper": "fragment_end",
       "frag_number": 25
      },
      "slideshow": {
       "slide_type": "fragment"
      }
     },
     "outputs": [
      {
       "output_type": "stream",
       "stream": "stdout",
       "text": [
        "Index([u'city', u'no_of_rooms', u'rent'], dtype='object')\n",
        "Int64Index([0, 1, 2, 3, 4, 5, 6, 7], dtype='int64')\n"
       ]
      }
     ],
     "prompt_number": 16
    },
    {
     "cell_type": "code",
     "collapsed": false,
     "input": [
      "print data[['city','rent']]"
     ],
     "language": "python",
     "metadata": {
      "internals": {
       "frag_helper": "fragment_end",
       "frag_number": 26
      },
      "slideshow": {
       "slide_type": "fragment"
      }
     },
     "outputs": [
      {
       "output_type": "stream",
       "stream": "stdout",
       "text": [
        "        city   rent\n",
        "0  Hyderabad  15000\n",
        "1  Bangalore  16380\n",
        "2       Pune  15690\n",
        "3     Mumbai  11510\n",
        "4  Hyderabad  14330\n",
        "5  Bangalore  11130\n",
        "6       Pune  17154\n",
        "7     Mumbai  15155\n"
       ]
      }
     ],
     "prompt_number": 17
    },
    {
     "cell_type": "code",
     "collapsed": false,
     "input": [
      "data.ix[5]['rent']"
     ],
     "language": "python",
     "metadata": {},
     "outputs": [
      {
       "html": [
        "<div style=\"max-height:1000px;max-width:1500px;overflow:auto;\">\n",
        "<table border=\"1\" class=\"dataframe\">\n",
        "  <thead>\n",
        "    <tr style=\"text-align: right;\">\n",
        "      <th></th>\n",
        "      <th>city</th>\n",
        "      <th>no_of_rooms</th>\n",
        "      <th>rent</th>\n",
        "      <th>average_auto_fare</th>\n",
        "    </tr>\n",
        "  </thead>\n",
        "  <tbody>\n",
        "    <tr>\n",
        "      <th>0</th>\n",
        "      <td> Hyderabad</td>\n",
        "      <td> 1</td>\n",
        "      <td> 15000</td>\n",
        "      <td> 158</td>\n",
        "    </tr>\n",
        "    <tr>\n",
        "      <th>1</th>\n",
        "      <td> Bangalore</td>\n",
        "      <td> 1</td>\n",
        "      <td> 16380</td>\n",
        "      <td> 171</td>\n",
        "    </tr>\n",
        "    <tr>\n",
        "      <th>2</th>\n",
        "      <td>      Pune</td>\n",
        "      <td> 1</td>\n",
        "      <td> 15690</td>\n",
        "      <td> 196</td>\n",
        "    </tr>\n",
        "    <tr>\n",
        "      <th>3</th>\n",
        "      <td>    Mumbai</td>\n",
        "      <td> 3</td>\n",
        "      <td> 11510</td>\n",
        "      <td> 110</td>\n",
        "    </tr>\n",
        "    <tr>\n",
        "      <th>4</th>\n",
        "      <td> Hyderabad</td>\n",
        "      <td> 2</td>\n",
        "      <td> 14330</td>\n",
        "      <td> NaN</td>\n",
        "    </tr>\n",
        "    <tr>\n",
        "      <th>5</th>\n",
        "      <td> Bangalore</td>\n",
        "      <td> 2</td>\n",
        "      <td> 11130</td>\n",
        "      <td> NaN</td>\n",
        "    </tr>\n",
        "    <tr>\n",
        "      <th>6</th>\n",
        "      <td>      Pune</td>\n",
        "      <td> 2</td>\n",
        "      <td> 17154</td>\n",
        "      <td> NaN</td>\n",
        "    </tr>\n",
        "    <tr>\n",
        "      <th>7</th>\n",
        "      <td>    Mumbai</td>\n",
        "      <td> 2</td>\n",
        "      <td> 15155</td>\n",
        "      <td> NaN</td>\n",
        "    </tr>\n",
        "  </tbody>\n",
        "</table>\n",
        "</div>"
       ],
       "metadata": {},
       "output_type": "pyout",
       "prompt_number": 239,
       "text": [
        "        city  no_of_rooms   rent  average_auto_fare\n",
        "0  Hyderabad            1  15000                158\n",
        "1  Bangalore            1  16380                171\n",
        "2       Pune            1  15690                196\n",
        "3     Mumbai            3  11510                110\n",
        "4  Hyderabad            2  14330                NaN\n",
        "5  Bangalore            2  11130                NaN\n",
        "6       Pune            2  17154                NaN\n",
        "7     Mumbai            2  15155                NaN"
       ]
      }
     ],
     "prompt_number": 239
    },
    {
     "cell_type": "code",
     "collapsed": false,
     "input": [
      "# Differences between various way of retrieving based on the column labels\n",
      "print data.city,type(data.city)\n",
      "print data['city'],type(data['city'])\n",
      "print data[['city']],type(data[['city']])"
     ],
     "language": "python",
     "metadata": {
      "internals": {
       "frag_helper": "fragment_end",
       "frag_number": 27
      },
      "slideshow": {
       "slide_type": "fragment"
      }
     },
     "outputs": [
      {
       "output_type": "stream",
       "stream": "stdout",
       "text": [
        "0    Hyderabad\n",
        "1    Bangalore\n",
        "2         Pune\n",
        "3       Mumbai\n",
        "4    Hyderabad\n",
        "5    Bangalore\n",
        "6         Pune\n",
        "7       Mumbai\n",
        "Name: city, dtype: object <class 'pandas.core.series.Series'>\n",
        "0    Hyderabad\n",
        "1    Bangalore\n",
        "2         Pune\n",
        "3       Mumbai\n",
        "4    Hyderabad\n",
        "5    Bangalore\n",
        "6         Pune\n",
        "7       Mumbai\n",
        "Name: city, dtype: object <class 'pandas.core.series.Series'>\n",
        "        city\n",
        "0  Hyderabad\n",
        "1  Bangalore\n",
        "2       Pune\n",
        "3     Mumbai\n",
        "4  Hyderabad\n",
        "5  Bangalore\n",
        "6       Pune\n",
        "7     Mumbai <class 'pandas.core.frame.DataFrame'>\n"
       ]
      }
     ],
     "prompt_number": 18
    },
    {
     "cell_type": "code",
     "collapsed": false,
     "input": [
      "# Way to access over row index\n",
      "data.ix[4],type(data.ix[4])"
     ],
     "language": "python",
     "metadata": {
      "internals": {
       "frag_helper": "fragment_end",
       "frag_number": 28
      },
      "slideshow": {
       "slide_type": "fragment"
      }
     },
     "outputs": [
      {
       "metadata": {},
       "output_type": "pyout",
       "prompt_number": 19,
       "text": [
        "(city           Hyderabad\n",
        " no_of_rooms            2\n",
        " rent               14330\n",
        " Name: 4, dtype: object, pandas.core.series.Series)"
       ]
      }
     ],
     "prompt_number": 19
    },
    {
     "cell_type": "code",
     "collapsed": false,
     "input": [
      "data.T"
     ],
     "language": "python",
     "metadata": {
      "internals": {
       "frag_helper": "fragment_end",
       "frag_number": 29
      },
      "slideshow": {
       "slide_type": "fragment"
      }
     },
     "outputs": [
      {
       "html": [
        "<div style=\"max-height:1000px;max-width:1500px;overflow:auto;\">\n",
        "<table border=\"1\" class=\"dataframe\">\n",
        "  <thead>\n",
        "    <tr style=\"text-align: right;\">\n",
        "      <th></th>\n",
        "      <th>0</th>\n",
        "      <th>1</th>\n",
        "      <th>2</th>\n",
        "      <th>3</th>\n",
        "      <th>4</th>\n",
        "      <th>5</th>\n",
        "      <th>6</th>\n",
        "      <th>7</th>\n",
        "    </tr>\n",
        "  </thead>\n",
        "  <tbody>\n",
        "    <tr>\n",
        "      <th>city</th>\n",
        "      <td> Hyderabad</td>\n",
        "      <td> Bangalore</td>\n",
        "      <td>  Pune</td>\n",
        "      <td> Mumbai</td>\n",
        "      <td> Hyderabad</td>\n",
        "      <td> Bangalore</td>\n",
        "      <td>  Pune</td>\n",
        "      <td> Mumbai</td>\n",
        "    </tr>\n",
        "    <tr>\n",
        "      <th>no_of_rooms</th>\n",
        "      <td>         1</td>\n",
        "      <td>         1</td>\n",
        "      <td>     1</td>\n",
        "      <td>      1</td>\n",
        "      <td>         2</td>\n",
        "      <td>         2</td>\n",
        "      <td>     2</td>\n",
        "      <td>      2</td>\n",
        "    </tr>\n",
        "    <tr>\n",
        "      <th>rent</th>\n",
        "      <td>     15000</td>\n",
        "      <td>     16380</td>\n",
        "      <td> 15690</td>\n",
        "      <td>  11510</td>\n",
        "      <td>     14330</td>\n",
        "      <td>     11130</td>\n",
        "      <td> 17154</td>\n",
        "      <td>  15155</td>\n",
        "    </tr>\n",
        "  </tbody>\n",
        "</table>\n",
        "</div>"
       ],
       "metadata": {},
       "output_type": "pyout",
       "prompt_number": 20,
       "text": [
        "                     0          1      2       3          4          5      6  \\\n",
        "city         Hyderabad  Bangalore   Pune  Mumbai  Hyderabad  Bangalore   Pune   \n",
        "no_of_rooms          1          1      1       1          2          2      2   \n",
        "rent             15000      16380  15690   11510      14330      11130  17154   \n",
        "\n",
        "                  7  \n",
        "city         Mumbai  \n",
        "no_of_rooms       2  \n",
        "rent          15155  "
       ]
      }
     ],
     "prompt_number": 20
    },
    {
     "cell_type": "code",
     "collapsed": false,
     "input": [
      "data['awesome_or_not'] = True\n",
      "data.no_of_rooms[3] = 3\n",
      "data"
     ],
     "language": "python",
     "metadata": {
      "internals": {
       "frag_helper": "fragment_end",
       "frag_number": 30
      },
      "slideshow": {
       "slide_type": "fragment"
      }
     },
     "outputs": [
      {
       "html": [
        "<div style=\"max-height:1000px;max-width:1500px;overflow:auto;\">\n",
        "<table border=\"1\" class=\"dataframe\">\n",
        "  <thead>\n",
        "    <tr style=\"text-align: right;\">\n",
        "      <th></th>\n",
        "      <th>city</th>\n",
        "      <th>no_of_rooms</th>\n",
        "      <th>rent</th>\n",
        "      <th>awesome_or_not</th>\n",
        "    </tr>\n",
        "  </thead>\n",
        "  <tbody>\n",
        "    <tr>\n",
        "      <th>0</th>\n",
        "      <td> Hyderabad</td>\n",
        "      <td> 1</td>\n",
        "      <td> 15000</td>\n",
        "      <td> True</td>\n",
        "    </tr>\n",
        "    <tr>\n",
        "      <th>1</th>\n",
        "      <td> Bangalore</td>\n",
        "      <td> 1</td>\n",
        "      <td> 16380</td>\n",
        "      <td> True</td>\n",
        "    </tr>\n",
        "    <tr>\n",
        "      <th>2</th>\n",
        "      <td>      Pune</td>\n",
        "      <td> 1</td>\n",
        "      <td> 15690</td>\n",
        "      <td> True</td>\n",
        "    </tr>\n",
        "    <tr>\n",
        "      <th>3</th>\n",
        "      <td>    Mumbai</td>\n",
        "      <td> 3</td>\n",
        "      <td> 11510</td>\n",
        "      <td> True</td>\n",
        "    </tr>\n",
        "    <tr>\n",
        "      <th>4</th>\n",
        "      <td> Hyderabad</td>\n",
        "      <td> 2</td>\n",
        "      <td> 14330</td>\n",
        "      <td> True</td>\n",
        "    </tr>\n",
        "    <tr>\n",
        "      <th>5</th>\n",
        "      <td> Bangalore</td>\n",
        "      <td> 2</td>\n",
        "      <td> 11130</td>\n",
        "      <td> True</td>\n",
        "    </tr>\n",
        "    <tr>\n",
        "      <th>6</th>\n",
        "      <td>      Pune</td>\n",
        "      <td> 2</td>\n",
        "      <td> 17154</td>\n",
        "      <td> True</td>\n",
        "    </tr>\n",
        "    <tr>\n",
        "      <th>7</th>\n",
        "      <td>    Mumbai</td>\n",
        "      <td> 2</td>\n",
        "      <td> 15155</td>\n",
        "      <td> True</td>\n",
        "    </tr>\n",
        "  </tbody>\n",
        "</table>\n",
        "</div>"
       ],
       "metadata": {},
       "output_type": "pyout",
       "prompt_number": 21,
       "text": [
        "        city  no_of_rooms   rent awesome_or_not\n",
        "0  Hyderabad            1  15000           True\n",
        "1  Bangalore            1  16380           True\n",
        "2       Pune            1  15690           True\n",
        "3     Mumbai            3  11510           True\n",
        "4  Hyderabad            2  14330           True\n",
        "5  Bangalore            2  11130           True\n",
        "6       Pune            2  17154           True\n",
        "7     Mumbai            2  15155           True"
       ]
      }
     ],
     "prompt_number": 21
    },
    {
     "cell_type": "code",
     "collapsed": false,
     "input": [
      "data.awesome = False\n",
      "data.awesome"
     ],
     "language": "python",
     "metadata": {
      "internals": {
       "frag_helper": "fragment_end",
       "frag_number": 31
      },
      "slideshow": {
       "slide_type": "fragment"
      }
     },
     "outputs": [
      {
       "metadata": {},
       "output_type": "pyout",
       "prompt_number": 241,
       "text": [
        "False"
       ]
      }
     ],
     "prompt_number": 241
    },
    {
     "cell_type": "code",
     "collapsed": false,
     "input": [
      "data['average_auto_fare'] = pd.Series(np.random.random_integers(100,200,6))\n",
      "data"
     ],
     "language": "python",
     "metadata": {
      "internals": {
       "frag_helper": "fragment_end",
       "frag_number": 32
      },
      "slideshow": {
       "slide_type": "fragment"
      }
     },
     "outputs": [
      {
       "html": [
        "<div style=\"max-height:1000px;max-width:1500px;overflow:auto;\">\n",
        "<table border=\"1\" class=\"dataframe\">\n",
        "  <thead>\n",
        "    <tr style=\"text-align: right;\">\n",
        "      <th></th>\n",
        "      <th>city</th>\n",
        "      <th>no_of_rooms</th>\n",
        "      <th>rent</th>\n",
        "      <th>average_auto_fare</th>\n",
        "    </tr>\n",
        "  </thead>\n",
        "  <tbody>\n",
        "    <tr>\n",
        "      <th>0</th>\n",
        "      <td> Hyderabad</td>\n",
        "      <td> 1</td>\n",
        "      <td> 15000</td>\n",
        "      <td> 138</td>\n",
        "    </tr>\n",
        "    <tr>\n",
        "      <th>1</th>\n",
        "      <td> Bangalore</td>\n",
        "      <td> 1</td>\n",
        "      <td> 16380</td>\n",
        "      <td> 135</td>\n",
        "    </tr>\n",
        "    <tr>\n",
        "      <th>2</th>\n",
        "      <td>      Pune</td>\n",
        "      <td> 1</td>\n",
        "      <td> 15690</td>\n",
        "      <td> 150</td>\n",
        "    </tr>\n",
        "    <tr>\n",
        "      <th>3</th>\n",
        "      <td>    Mumbai</td>\n",
        "      <td> 3</td>\n",
        "      <td> 11510</td>\n",
        "      <td> 118</td>\n",
        "    </tr>\n",
        "    <tr>\n",
        "      <th>4</th>\n",
        "      <td> Hyderabad</td>\n",
        "      <td> 2</td>\n",
        "      <td> 14330</td>\n",
        "      <td> 146</td>\n",
        "    </tr>\n",
        "    <tr>\n",
        "      <th>5</th>\n",
        "      <td> Bangalore</td>\n",
        "      <td> 2</td>\n",
        "      <td> 11130</td>\n",
        "      <td> 179</td>\n",
        "    </tr>\n",
        "    <tr>\n",
        "      <th>6</th>\n",
        "      <td>      Pune</td>\n",
        "      <td> 2</td>\n",
        "      <td> 17154</td>\n",
        "      <td> NaN</td>\n",
        "    </tr>\n",
        "    <tr>\n",
        "      <th>7</th>\n",
        "      <td>    Mumbai</td>\n",
        "      <td> 2</td>\n",
        "      <td> 15155</td>\n",
        "      <td> NaN</td>\n",
        "    </tr>\n",
        "  </tbody>\n",
        "</table>\n",
        "</div>"
       ],
       "metadata": {},
       "output_type": "pyout",
       "prompt_number": 242,
       "text": [
        "        city  no_of_rooms   rent  average_auto_fare\n",
        "0  Hyderabad            1  15000                138\n",
        "1  Bangalore            1  16380                135\n",
        "2       Pune            1  15690                150\n",
        "3     Mumbai            3  11510                118\n",
        "4  Hyderabad            2  14330                146\n",
        "5  Bangalore            2  11130                179\n",
        "6       Pune            2  17154                NaN\n",
        "7     Mumbai            2  15155                NaN"
       ]
      }
     ],
     "prompt_number": 242
    },
    {
     "cell_type": "code",
     "collapsed": false,
     "input": [
      "data.index = np.random.random_integers(1,11,8)\n",
      "data.index\n"
     ],
     "language": "python",
     "metadata": {},
     "outputs": [
      {
       "metadata": {},
       "output_type": "pyout",
       "prompt_number": 248,
       "text": [
        "Int64Index([4, 8, 2, 4, 8, 11, 10, 7], dtype='int64')"
       ]
      }
     ],
     "prompt_number": 248
    },
    {
     "cell_type": "code",
     "collapsed": false,
     "input": [
      "del data['average_auto_fare']\n",
      "data['average_auto_fare'] = pd.Series(np.random.random_integers(100,200,6))\n",
      "data"
     ],
     "language": "python",
     "metadata": {},
     "outputs": [
      {
       "html": [
        "<div style=\"max-height:1000px;max-width:1500px;overflow:auto;\">\n",
        "<table border=\"1\" class=\"dataframe\">\n",
        "  <thead>\n",
        "    <tr style=\"text-align: right;\">\n",
        "      <th></th>\n",
        "      <th>city</th>\n",
        "      <th>no_of_rooms</th>\n",
        "      <th>rent</th>\n",
        "      <th>average_auto_fare</th>\n",
        "    </tr>\n",
        "  </thead>\n",
        "  <tbody>\n",
        "    <tr>\n",
        "      <th>4 </th>\n",
        "      <td> Hyderabad</td>\n",
        "      <td> 1</td>\n",
        "      <td> 15000</td>\n",
        "      <td> 187</td>\n",
        "    </tr>\n",
        "    <tr>\n",
        "      <th>8 </th>\n",
        "      <td> Bangalore</td>\n",
        "      <td> 1</td>\n",
        "      <td> 16380</td>\n",
        "      <td> NaN</td>\n",
        "    </tr>\n",
        "    <tr>\n",
        "      <th>2 </th>\n",
        "      <td>      Pune</td>\n",
        "      <td> 1</td>\n",
        "      <td> 15690</td>\n",
        "      <td> 107</td>\n",
        "    </tr>\n",
        "    <tr>\n",
        "      <th>4 </th>\n",
        "      <td>    Mumbai</td>\n",
        "      <td> 3</td>\n",
        "      <td> 11510</td>\n",
        "      <td> 187</td>\n",
        "    </tr>\n",
        "    <tr>\n",
        "      <th>8 </th>\n",
        "      <td> Hyderabad</td>\n",
        "      <td> 2</td>\n",
        "      <td> 14330</td>\n",
        "      <td> NaN</td>\n",
        "    </tr>\n",
        "    <tr>\n",
        "      <th>11</th>\n",
        "      <td> Bangalore</td>\n",
        "      <td> 2</td>\n",
        "      <td> 11130</td>\n",
        "      <td> NaN</td>\n",
        "    </tr>\n",
        "    <tr>\n",
        "      <th>10</th>\n",
        "      <td>      Pune</td>\n",
        "      <td> 2</td>\n",
        "      <td> 17154</td>\n",
        "      <td> NaN</td>\n",
        "    </tr>\n",
        "    <tr>\n",
        "      <th>7 </th>\n",
        "      <td>    Mumbai</td>\n",
        "      <td> 2</td>\n",
        "      <td> 15155</td>\n",
        "      <td> NaN</td>\n",
        "    </tr>\n",
        "  </tbody>\n",
        "</table>\n",
        "</div>"
       ],
       "metadata": {},
       "output_type": "pyout",
       "prompt_number": 251,
       "text": [
        "         city  no_of_rooms   rent  average_auto_fare\n",
        "4   Hyderabad            1  15000                187\n",
        "8   Bangalore            1  16380                NaN\n",
        "2        Pune            1  15690                107\n",
        "4      Mumbai            3  11510                187\n",
        "8   Hyderabad            2  14330                NaN\n",
        "11  Bangalore            2  11130                NaN\n",
        "10       Pune            2  17154                NaN\n",
        "7      Mumbai            2  15155                NaN"
       ]
      }
     ],
     "prompt_number": 251
    },
    {
     "cell_type": "code",
     "collapsed": false,
     "input": [
      "del data['awesome_or_not']\n",
      "data"
     ],
     "language": "python",
     "metadata": {
      "internals": {
       "frag_helper": "fragment_end",
       "frag_number": 33,
       "slide_helper": "subslide_end"
      },
      "slide_helper": "slide_end",
      "slideshow": {
       "slide_type": "fragment"
      }
     },
     "outputs": [
      {
       "html": [
        "<div style=\"max-height:1000px;max-width:1500px;overflow:auto;\">\n",
        "<table border=\"1\" class=\"dataframe\">\n",
        "  <thead>\n",
        "    <tr style=\"text-align: right;\">\n",
        "      <th></th>\n",
        "      <th>city</th>\n",
        "      <th>no_of_rooms</th>\n",
        "      <th>rent</th>\n",
        "      <th>average_auto_fare</th>\n",
        "    </tr>\n",
        "  </thead>\n",
        "  <tbody>\n",
        "    <tr>\n",
        "      <th>0</th>\n",
        "      <td> Hyderabad</td>\n",
        "      <td> 1</td>\n",
        "      <td> 15000</td>\n",
        "      <td> 158</td>\n",
        "    </tr>\n",
        "    <tr>\n",
        "      <th>1</th>\n",
        "      <td> Bangalore</td>\n",
        "      <td> 1</td>\n",
        "      <td> 16380</td>\n",
        "      <td> 171</td>\n",
        "    </tr>\n",
        "    <tr>\n",
        "      <th>2</th>\n",
        "      <td>      Pune</td>\n",
        "      <td> 1</td>\n",
        "      <td> 15690</td>\n",
        "      <td> 196</td>\n",
        "    </tr>\n",
        "    <tr>\n",
        "      <th>3</th>\n",
        "      <td>    Mumbai</td>\n",
        "      <td> 3</td>\n",
        "      <td> 11510</td>\n",
        "      <td> 110</td>\n",
        "    </tr>\n",
        "    <tr>\n",
        "      <th>4</th>\n",
        "      <td> Hyderabad</td>\n",
        "      <td> 2</td>\n",
        "      <td> 14330</td>\n",
        "      <td> NaN</td>\n",
        "    </tr>\n",
        "    <tr>\n",
        "      <th>5</th>\n",
        "      <td> Bangalore</td>\n",
        "      <td> 2</td>\n",
        "      <td> 11130</td>\n",
        "      <td> NaN</td>\n",
        "    </tr>\n",
        "    <tr>\n",
        "      <th>6</th>\n",
        "      <td>      Pune</td>\n",
        "      <td> 2</td>\n",
        "      <td> 17154</td>\n",
        "      <td> NaN</td>\n",
        "    </tr>\n",
        "    <tr>\n",
        "      <th>7</th>\n",
        "      <td>    Mumbai</td>\n",
        "      <td> 2</td>\n",
        "      <td> 15155</td>\n",
        "      <td> NaN</td>\n",
        "    </tr>\n",
        "  </tbody>\n",
        "</table>\n",
        "</div>"
       ],
       "metadata": {},
       "output_type": "pyout",
       "prompt_number": 24,
       "text": [
        "        city  no_of_rooms   rent  average_auto_fare\n",
        "0  Hyderabad            1  15000                158\n",
        "1  Bangalore            1  16380                171\n",
        "2       Pune            1  15690                196\n",
        "3     Mumbai            3  11510                110\n",
        "4  Hyderabad            2  14330                NaN\n",
        "5  Bangalore            2  11130                NaN\n",
        "6       Pune            2  17154                NaN\n",
        "7     Mumbai            2  15155                NaN"
       ]
      }
     ],
     "prompt_number": 24
    },
    {
     "cell_type": "code",
     "collapsed": false,
     "input": [
      "# Lets go to the directory where the datasets are\n",
      "%cd ~/pandas\n",
      "# Lets see what we got in our directory\n",
      "!ls"
     ],
     "language": "python",
     "metadata": {
      "internals": {
       "frag_helper": "fragment_end",
       "frag_number": 33,
       "slide_type": "subslide"
      },
      "slideshow": {
       "slide_type": "slide"
      }
     },
     "outputs": [
      {
       "output_type": "stream",
       "stream": "stdout",
       "text": [
        "/Users/vijayy/pandas\n"
       ]
      },
      {
       "output_type": "stream",
       "stream": "stdout",
       "text": [
        "\u001b[31mData Wrangling with Pandas.ipynb\u001b[m\u001b[m \u001b[31mPlotting and Visualization.ipynb\u001b[m\u001b[m \u001b[31mactors_unformatted.xlsx\u001b[m\u001b[m          \u001b[31mipl_player_hunt_bowlers.csv\u001b[m\u001b[m      \u001b[34mslides\u001b[m\u001b[m\r\n",
        "\u001b[31mIntroduction to Pandas.ipynb\u001b[m\u001b[m     \u001b[31mStatistical Data Modeling.ipynb\u001b[m\u001b[m  \u001b[31mcity-of-chicago-salaries.csv\u001b[m\u001b[m     \u001b[34mml-100k\u001b[m\u001b[m\r\n",
        "\u001b[31mIntroduction to Pandas.pptx\u001b[m\u001b[m      \u001b[31mactors.pkl\u001b[m\u001b[m                       \u001b[31mipl_player_hunt_batsmen.csv\u001b[m\u001b[m      \u001b[31mmovies_unformatted.xlsx\u001b[m\u001b[m\r\n"
       ]
      }
     ],
     "prompt_number": 25
    },
    {
     "cell_type": "code",
     "collapsed": false,
     "input": [
      "# pandas can process most of the data formats used by data analysts for analysis like\n",
      "# csv,excel,hdf,sql,json,html,stata,clipboard,pickle"
     ],
     "language": "python",
     "metadata": {
      "internals": {
       "frag_helper": "fragment_end",
       "frag_number": 35
      },
      "slideshow": {
       "slide_type": "fragment"
      }
     },
     "outputs": [],
     "prompt_number": 26
    },
    {
     "cell_type": "code",
     "collapsed": false,
     "input": [
      "salary_data = pd.read_csv('city-of-chicago-salaries.csv')\n",
      "salary_data.head(10)\n",
      "salary.columns = []"
     ],
     "language": "python",
     "metadata": {
      "internals": {
       "frag_helper": "fragment_end",
       "frag_number": 36
      },
      "slideshow": {
       "slide_type": "fragment"
      }
     },
     "outputs": [
      {
       "html": [
        "<div style=\"max-height:1000px;max-width:1500px;overflow:auto;\">\n",
        "<table border=\"1\" class=\"dataframe\">\n",
        "  <thead>\n",
        "    <tr style=\"text-align: right;\">\n",
        "      <th></th>\n",
        "      <th>Name</th>\n",
        "      <th>Position Title</th>\n",
        "      <th>Department</th>\n",
        "      <th>Employee Annual Salary</th>\n",
        "    </tr>\n",
        "  </thead>\n",
        "  <tbody>\n",
        "    <tr>\n",
        "      <th>0</th>\n",
        "      <td>        AARON,  ELVIA J</td>\n",
        "      <td>         WATER RATE TAKER</td>\n",
        "      <td>      WATER MGMNT</td>\n",
        "      <td> $85512.00</td>\n",
        "    </tr>\n",
        "    <tr>\n",
        "      <th>1</th>\n",
        "      <td>      AARON,  JEFFERY M</td>\n",
        "      <td>           POLICE OFFICER</td>\n",
        "      <td>           POLICE</td>\n",
        "      <td> $75372.00</td>\n",
        "    </tr>\n",
        "    <tr>\n",
        "      <th>2</th>\n",
        "      <td>    AARON,  KIMBERLEI R</td>\n",
        "      <td> CHIEF CONTRACT EXPEDITER</td>\n",
        "      <td> GENERAL SERVICES</td>\n",
        "      <td> $80916.00</td>\n",
        "    </tr>\n",
        "    <tr>\n",
        "      <th>3</th>\n",
        "      <td>    ABAD JR,  VICENTE M</td>\n",
        "      <td>        CIVIL ENGINEER IV</td>\n",
        "      <td>      WATER MGMNT</td>\n",
        "      <td> $99648.00</td>\n",
        "    </tr>\n",
        "    <tr>\n",
        "      <th>4</th>\n",
        "      <td>  ABBATACOLA,  ROBERT J</td>\n",
        "      <td>      ELECTRICAL MECHANIC</td>\n",
        "      <td>         AVIATION</td>\n",
        "      <td> $89440.00</td>\n",
        "    </tr>\n",
        "    <tr>\n",
        "      <th>5</th>\n",
        "      <td>  ABBATEMARCO,  JAMES J</td>\n",
        "      <td>              FIREFIGHTER</td>\n",
        "      <td>             FIRE</td>\n",
        "      <td> $78012.00</td>\n",
        "    </tr>\n",
        "    <tr>\n",
        "      <th>6</th>\n",
        "      <td>       ABBATE,  TERRY M</td>\n",
        "      <td>           POLICE OFFICER</td>\n",
        "      <td>           POLICE</td>\n",
        "      <td> $80724.00</td>\n",
        "    </tr>\n",
        "    <tr>\n",
        "      <th>7</th>\n",
        "      <td>       ABBOTT,  BETTY L</td>\n",
        "      <td>       FOSTER GRANDPARENT</td>\n",
        "      <td> FAMILY &amp; SUPPORT</td>\n",
        "      <td>  $2756.00</td>\n",
        "    </tr>\n",
        "    <tr>\n",
        "      <th>8</th>\n",
        "      <td>      ABBOTT,  LYNISE M</td>\n",
        "      <td>                CLERK III</td>\n",
        "      <td>           POLICE</td>\n",
        "      <td> $41784.00</td>\n",
        "    </tr>\n",
        "    <tr>\n",
        "      <th>9</th>\n",
        "      <td> ABBRUZZESE,  WILLIAM J</td>\n",
        "      <td>   INVESTIGATOR - IPRA II</td>\n",
        "      <td>             IPRA</td>\n",
        "      <td> $62832.00</td>\n",
        "    </tr>\n",
        "  </tbody>\n",
        "</table>\n",
        "</div>"
       ],
       "metadata": {},
       "output_type": "pyout",
       "prompt_number": 27,
       "text": [
        "                     Name            Position Title        Department  \\\n",
        "0         AARON,  ELVIA J          WATER RATE TAKER       WATER MGMNT   \n",
        "1       AARON,  JEFFERY M            POLICE OFFICER            POLICE   \n",
        "2     AARON,  KIMBERLEI R  CHIEF CONTRACT EXPEDITER  GENERAL SERVICES   \n",
        "3     ABAD JR,  VICENTE M         CIVIL ENGINEER IV       WATER MGMNT   \n",
        "4   ABBATACOLA,  ROBERT J       ELECTRICAL MECHANIC          AVIATION   \n",
        "5   ABBATEMARCO,  JAMES J               FIREFIGHTER              FIRE   \n",
        "6        ABBATE,  TERRY M            POLICE OFFICER            POLICE   \n",
        "7        ABBOTT,  BETTY L        FOSTER GRANDPARENT  FAMILY & SUPPORT   \n",
        "8       ABBOTT,  LYNISE M                 CLERK III            POLICE   \n",
        "9  ABBRUZZESE,  WILLIAM J    INVESTIGATOR - IPRA II              IPRA   \n",
        "\n",
        "  Employee Annual Salary  \n",
        "0              $85512.00  \n",
        "1              $75372.00  \n",
        "2              $80916.00  \n",
        "3              $99648.00  \n",
        "4              $89440.00  \n",
        "5              $78012.00  \n",
        "6              $80724.00  \n",
        "7               $2756.00  \n",
        "8              $41784.00  \n",
        "9              $62832.00  "
       ]
      }
     ],
     "prompt_number": 27
    },
    {
     "cell_type": "code",
     "collapsed": false,
     "input": [
      "salary_data = pd.read_csv('city-of-chicago-salaries.csv',index_col='Name')\n",
      "salary_data.head()"
     ],
     "language": "python",
     "metadata": {
      "internals": {
       "frag_helper": "fragment_end",
       "frag_number": 37
      },
      "slideshow": {
       "slide_type": "fragment"
      }
     },
     "outputs": [
      {
       "html": [
        "<div style=\"max-height:1000px;max-width:1500px;overflow:auto;\">\n",
        "<table border=\"1\" class=\"dataframe\">\n",
        "  <thead>\n",
        "    <tr style=\"text-align: right;\">\n",
        "      <th></th>\n",
        "      <th>Position Title</th>\n",
        "      <th>Department</th>\n",
        "      <th>Employee Annual Salary</th>\n",
        "    </tr>\n",
        "    <tr>\n",
        "      <th>Name</th>\n",
        "      <th></th>\n",
        "      <th></th>\n",
        "      <th></th>\n",
        "    </tr>\n",
        "  </thead>\n",
        "  <tbody>\n",
        "    <tr>\n",
        "      <th>AARON,  ELVIA J</th>\n",
        "      <td>         WATER RATE TAKER</td>\n",
        "      <td>      WATER MGMNT</td>\n",
        "      <td> $85512.00</td>\n",
        "    </tr>\n",
        "    <tr>\n",
        "      <th>AARON,  JEFFERY M</th>\n",
        "      <td>           POLICE OFFICER</td>\n",
        "      <td>           POLICE</td>\n",
        "      <td> $75372.00</td>\n",
        "    </tr>\n",
        "    <tr>\n",
        "      <th>AARON,  KIMBERLEI R</th>\n",
        "      <td> CHIEF CONTRACT EXPEDITER</td>\n",
        "      <td> GENERAL SERVICES</td>\n",
        "      <td> $80916.00</td>\n",
        "    </tr>\n",
        "    <tr>\n",
        "      <th>ABAD JR,  VICENTE M</th>\n",
        "      <td>        CIVIL ENGINEER IV</td>\n",
        "      <td>      WATER MGMNT</td>\n",
        "      <td> $99648.00</td>\n",
        "    </tr>\n",
        "    <tr>\n",
        "      <th>ABBATACOLA,  ROBERT J</th>\n",
        "      <td>      ELECTRICAL MECHANIC</td>\n",
        "      <td>         AVIATION</td>\n",
        "      <td> $89440.00</td>\n",
        "    </tr>\n",
        "  </tbody>\n",
        "</table>\n",
        "</div>"
       ],
       "metadata": {},
       "output_type": "pyout",
       "prompt_number": 28,
       "text": [
        "                                 Position Title        Department  \\\n",
        "Name                                                                \n",
        "AARON,  ELVIA J                WATER RATE TAKER       WATER MGMNT   \n",
        "AARON,  JEFFERY M                POLICE OFFICER            POLICE   \n",
        "AARON,  KIMBERLEI R    CHIEF CONTRACT EXPEDITER  GENERAL SERVICES   \n",
        "ABAD JR,  VICENTE M           CIVIL ENGINEER IV       WATER MGMNT   \n",
        "ABBATACOLA,  ROBERT J       ELECTRICAL MECHANIC          AVIATION   \n",
        "\n",
        "                      Employee Annual Salary  \n",
        "Name                                          \n",
        "AARON,  ELVIA J                    $85512.00  \n",
        "AARON,  JEFFERY M                  $75372.00  \n",
        "AARON,  KIMBERLEI R                $80916.00  \n",
        "ABAD JR,  VICENTE M                $99648.00  \n",
        "ABBATACOLA,  ROBERT J              $89440.00  "
       ]
      }
     ],
     "prompt_number": 28
    },
    {
     "cell_type": "code",
     "collapsed": false,
     "input": [
      "salary_data = pd.read_csv('city-of-chicago-salaries.csv')\n",
      "salary_data.index = salary_data.Department + ' EMPLOYEE'\n",
      "salary_data.index.name = 'new_id'\n",
      "salary_data.head()"
     ],
     "language": "python",
     "metadata": {
      "internals": {
       "frag_helper": "fragment_end",
       "frag_number": 38
      },
      "slideshow": {
       "slide_type": "fragment"
      }
     },
     "outputs": [
      {
       "html": [
        "<div style=\"max-height:1000px;max-width:1500px;overflow:auto;\">\n",
        "<table border=\"1\" class=\"dataframe\">\n",
        "  <thead>\n",
        "    <tr style=\"text-align: right;\">\n",
        "      <th></th>\n",
        "      <th>Name</th>\n",
        "      <th>Position Title</th>\n",
        "      <th>Department</th>\n",
        "      <th>Employee Annual Salary</th>\n",
        "    </tr>\n",
        "    <tr>\n",
        "      <th>new_id</th>\n",
        "      <th></th>\n",
        "      <th></th>\n",
        "      <th></th>\n",
        "      <th></th>\n",
        "    </tr>\n",
        "  </thead>\n",
        "  <tbody>\n",
        "    <tr>\n",
        "      <th>WATER MGMNT EMPLOYEE</th>\n",
        "      <td>       AARON,  ELVIA J</td>\n",
        "      <td>         WATER RATE TAKER</td>\n",
        "      <td>      WATER MGMNT</td>\n",
        "      <td> $85512.00</td>\n",
        "    </tr>\n",
        "    <tr>\n",
        "      <th>POLICE EMPLOYEE</th>\n",
        "      <td>     AARON,  JEFFERY M</td>\n",
        "      <td>           POLICE OFFICER</td>\n",
        "      <td>           POLICE</td>\n",
        "      <td> $75372.00</td>\n",
        "    </tr>\n",
        "    <tr>\n",
        "      <th>GENERAL SERVICES EMPLOYEE</th>\n",
        "      <td>   AARON,  KIMBERLEI R</td>\n",
        "      <td> CHIEF CONTRACT EXPEDITER</td>\n",
        "      <td> GENERAL SERVICES</td>\n",
        "      <td> $80916.00</td>\n",
        "    </tr>\n",
        "    <tr>\n",
        "      <th>WATER MGMNT EMPLOYEE</th>\n",
        "      <td>   ABAD JR,  VICENTE M</td>\n",
        "      <td>        CIVIL ENGINEER IV</td>\n",
        "      <td>      WATER MGMNT</td>\n",
        "      <td> $99648.00</td>\n",
        "    </tr>\n",
        "    <tr>\n",
        "      <th>AVIATION EMPLOYEE</th>\n",
        "      <td> ABBATACOLA,  ROBERT J</td>\n",
        "      <td>      ELECTRICAL MECHANIC</td>\n",
        "      <td>         AVIATION</td>\n",
        "      <td> $89440.00</td>\n",
        "    </tr>\n",
        "  </tbody>\n",
        "</table>\n",
        "</div>"
       ],
       "metadata": {},
       "output_type": "pyout",
       "prompt_number": 253,
       "text": [
        "                                            Name            Position Title  \\\n",
        "new_id                                                                       \n",
        "WATER MGMNT EMPLOYEE             AARON,  ELVIA J          WATER RATE TAKER   \n",
        "POLICE EMPLOYEE                AARON,  JEFFERY M            POLICE OFFICER   \n",
        "GENERAL SERVICES EMPLOYEE    AARON,  KIMBERLEI R  CHIEF CONTRACT EXPEDITER   \n",
        "WATER MGMNT EMPLOYEE         ABAD JR,  VICENTE M         CIVIL ENGINEER IV   \n",
        "AVIATION EMPLOYEE          ABBATACOLA,  ROBERT J       ELECTRICAL MECHANIC   \n",
        "\n",
        "                                 Department Employee Annual Salary  \n",
        "new_id                                                              \n",
        "WATER MGMNT EMPLOYEE            WATER MGMNT              $85512.00  \n",
        "POLICE EMPLOYEE                      POLICE              $75372.00  \n",
        "GENERAL SERVICES EMPLOYEE  GENERAL SERVICES              $80916.00  \n",
        "WATER MGMNT EMPLOYEE            WATER MGMNT              $99648.00  \n",
        "AVIATION EMPLOYEE                  AVIATION              $89440.00  "
       ]
      }
     ],
     "prompt_number": 253
    },
    {
     "cell_type": "code",
     "collapsed": false,
     "input": [
      "salary_data.reset_index().head()"
     ],
     "language": "python",
     "metadata": {
      "internals": {
       "frag_helper": "fragment_end",
       "frag_number": 39
      },
      "slideshow": {
       "slide_type": "fragment"
      }
     },
     "outputs": [
      {
       "html": [
        "<div style=\"max-height:1000px;max-width:1500px;overflow:auto;\">\n",
        "<table border=\"1\" class=\"dataframe\">\n",
        "  <thead>\n",
        "    <tr style=\"text-align: right;\">\n",
        "      <th></th>\n",
        "      <th>new_id</th>\n",
        "      <th>Name</th>\n",
        "      <th>Position Title</th>\n",
        "      <th>Department</th>\n",
        "      <th>Employee Annual Salary</th>\n",
        "    </tr>\n",
        "  </thead>\n",
        "  <tbody>\n",
        "    <tr>\n",
        "      <th>0</th>\n",
        "      <td>      WATER MGMNT EMPLOYEE</td>\n",
        "      <td>       AARON,  ELVIA J</td>\n",
        "      <td>         WATER RATE TAKER</td>\n",
        "      <td>      WATER MGMNT</td>\n",
        "      <td> $85512.00</td>\n",
        "    </tr>\n",
        "    <tr>\n",
        "      <th>1</th>\n",
        "      <td>           POLICE EMPLOYEE</td>\n",
        "      <td>     AARON,  JEFFERY M</td>\n",
        "      <td>           POLICE OFFICER</td>\n",
        "      <td>           POLICE</td>\n",
        "      <td> $75372.00</td>\n",
        "    </tr>\n",
        "    <tr>\n",
        "      <th>2</th>\n",
        "      <td> GENERAL SERVICES EMPLOYEE</td>\n",
        "      <td>   AARON,  KIMBERLEI R</td>\n",
        "      <td> CHIEF CONTRACT EXPEDITER</td>\n",
        "      <td> GENERAL SERVICES</td>\n",
        "      <td> $80916.00</td>\n",
        "    </tr>\n",
        "    <tr>\n",
        "      <th>3</th>\n",
        "      <td>      WATER MGMNT EMPLOYEE</td>\n",
        "      <td>   ABAD JR,  VICENTE M</td>\n",
        "      <td>        CIVIL ENGINEER IV</td>\n",
        "      <td>      WATER MGMNT</td>\n",
        "      <td> $99648.00</td>\n",
        "    </tr>\n",
        "    <tr>\n",
        "      <th>4</th>\n",
        "      <td>         AVIATION EMPLOYEE</td>\n",
        "      <td> ABBATACOLA,  ROBERT J</td>\n",
        "      <td>      ELECTRICAL MECHANIC</td>\n",
        "      <td>         AVIATION</td>\n",
        "      <td> $89440.00</td>\n",
        "    </tr>\n",
        "  </tbody>\n",
        "</table>\n",
        "</div>"
       ],
       "metadata": {},
       "output_type": "pyout",
       "prompt_number": 145,
       "text": [
        "                      new_id                   Name            Position Title  \\\n",
        "0       WATER MGMNT EMPLOYEE        AARON,  ELVIA J          WATER RATE TAKER   \n",
        "1            POLICE EMPLOYEE      AARON,  JEFFERY M            POLICE OFFICER   \n",
        "2  GENERAL SERVICES EMPLOYEE    AARON,  KIMBERLEI R  CHIEF CONTRACT EXPEDITER   \n",
        "3       WATER MGMNT EMPLOYEE    ABAD JR,  VICENTE M         CIVIL ENGINEER IV   \n",
        "4          AVIATION EMPLOYEE  ABBATACOLA,  ROBERT J       ELECTRICAL MECHANIC   \n",
        "\n",
        "         Department Employee Annual Salary  \n",
        "0       WATER MGMNT              $85512.00  \n",
        "1            POLICE              $75372.00  \n",
        "2  GENERAL SERVICES              $80916.00  \n",
        "3       WATER MGMNT              $99648.00  \n",
        "4          AVIATION              $89440.00  "
       ]
      }
     ],
     "prompt_number": 145
    },
    {
     "cell_type": "code",
     "collapsed": false,
     "input": [
      "df = pd.DataFrame(np.random.randn(10, 2), columns=['a', 'delt'])\n",
      "df"
     ],
     "language": "python",
     "metadata": {
      "internals": {
       "frag_helper": "fragment_end",
       "frag_number": 40
      },
      "slideshow": {
       "slide_type": "fragment"
      }
     },
     "outputs": [
      {
       "html": [
        "<div style=\"max-height:1000px;max-width:1500px;overflow:auto;\">\n",
        "<table border=\"1\" class=\"dataframe\">\n",
        "  <thead>\n",
        "    <tr style=\"text-align: right;\">\n",
        "      <th></th>\n",
        "      <th>a</th>\n",
        "      <th>delt</th>\n",
        "    </tr>\n",
        "  </thead>\n",
        "  <tbody>\n",
        "    <tr>\n",
        "      <th>0</th>\n",
        "      <td>-0.795356</td>\n",
        "      <td>-1.059292</td>\n",
        "    </tr>\n",
        "    <tr>\n",
        "      <th>1</th>\n",
        "      <td> 0.147978</td>\n",
        "      <td>-0.136867</td>\n",
        "    </tr>\n",
        "    <tr>\n",
        "      <th>2</th>\n",
        "      <td> 0.900193</td>\n",
        "      <td>-0.487037</td>\n",
        "    </tr>\n",
        "    <tr>\n",
        "      <th>3</th>\n",
        "      <td> 1.214153</td>\n",
        "      <td> 1.367776</td>\n",
        "    </tr>\n",
        "    <tr>\n",
        "      <th>4</th>\n",
        "      <td>-1.294666</td>\n",
        "      <td> 0.136653</td>\n",
        "    </tr>\n",
        "    <tr>\n",
        "      <th>5</th>\n",
        "      <td> 0.468982</td>\n",
        "      <td> 2.212355</td>\n",
        "    </tr>\n",
        "    <tr>\n",
        "      <th>6</th>\n",
        "      <td> 0.103937</td>\n",
        "      <td> 1.738252</td>\n",
        "    </tr>\n",
        "    <tr>\n",
        "      <th>7</th>\n",
        "      <td> 0.296830</td>\n",
        "      <td> 0.160132</td>\n",
        "    </tr>\n",
        "    <tr>\n",
        "      <th>8</th>\n",
        "      <td> 1.237778</td>\n",
        "      <td>-0.104216</td>\n",
        "    </tr>\n",
        "    <tr>\n",
        "      <th>9</th>\n",
        "      <td>-0.810215</td>\n",
        "      <td>-0.148419</td>\n",
        "    </tr>\n",
        "  </tbody>\n",
        "</table>\n",
        "</div>"
       ],
       "metadata": {},
       "output_type": "pyout",
       "prompt_number": 256,
       "text": [
        "          a      delt\n",
        "0 -0.795356 -1.059292\n",
        "1  0.147978 -0.136867\n",
        "2  0.900193 -0.487037\n",
        "3  1.214153  1.367776\n",
        "4 -1.294666  0.136653\n",
        "5  0.468982  2.212355\n",
        "6  0.103937  1.738252\n",
        "7  0.296830  0.160132\n",
        "8  1.237778 -0.104216\n",
        "9 -0.810215 -0.148419"
       ]
      }
     ],
     "prompt_number": 256
    },
    {
     "cell_type": "code",
     "collapsed": false,
     "input": [
      "print df.reindex([np.arange(1,11)]) # Using reindex\n",
      "df.index = np.arange(1,11) # Manually replacing index\n",
      "print df"
     ],
     "language": "python",
     "metadata": {
      "internals": {
       "frag_helper": "fragment_end",
       "frag_number": 41
      },
      "slideshow": {
       "slide_type": "fragment"
      }
     },
     "outputs": [
      {
       "output_type": "stream",
       "stream": "stdout",
       "text": [
        "           a      delt\n",
        "1   0.147978 -0.136867\n",
        "2   0.900193 -0.487037\n",
        "3   1.214153  1.367776\n",
        "4  -1.294666  0.136653\n",
        "5   0.468982  2.212355\n",
        "6   0.103937  1.738252\n",
        "7   0.296830  0.160132\n",
        "8   1.237778 -0.104216\n",
        "9  -0.810215 -0.148419\n",
        "10       NaN       NaN\n",
        "           a      delt\n",
        "1  -0.795356 -1.059292\n",
        "2   0.147978 -0.136867\n",
        "3   0.900193 -0.487037\n",
        "4   1.214153  1.367776\n",
        "5  -1.294666  0.136653\n",
        "6   0.468982  2.212355\n",
        "7   0.103937  1.738252\n",
        "8   0.296830  0.160132\n",
        "9   1.237778 -0.104216\n",
        "10 -0.810215 -0.148419\n"
       ]
      }
     ],
     "prompt_number": 258
    },
    {
     "cell_type": "code",
     "collapsed": false,
     "input": [
      "df.shape"
     ],
     "language": "python",
     "metadata": {
      "internals": {
       "frag_helper": "fragment_end",
       "frag_number": 42
      },
      "slideshow": {
       "slide_type": "fragment"
      }
     },
     "outputs": [
      {
       "metadata": {},
       "output_type": "pyout",
       "prompt_number": 40,
       "text": [
        "(10, 2)"
       ]
      }
     ],
     "prompt_number": 40
    },
    {
     "cell_type": "code",
     "collapsed": false,
     "input": [
      "print df.drop([2,3])"
     ],
     "language": "python",
     "metadata": {
      "internals": {
       "frag_helper": "fragment_end",
       "frag_number": 43
      },
      "slideshow": {
       "slide_type": "fragment"
      }
     },
     "outputs": [
      {
       "output_type": "stream",
       "stream": "stdout",
       "text": [
        "           a      delt\n",
        "1   0.785383  0.129644\n",
        "4   2.826030 -0.429001\n",
        "5  -1.743938 -0.507313\n",
        "6   0.035708 -2.005849\n",
        "7   0.242576 -0.406377\n",
        "8   0.075265 -0.669250\n",
        "9  -0.226572  0.410150\n",
        "10  0.654457  0.313827\n"
       ]
      }
     ],
     "prompt_number": 43
    },
    {
     "cell_type": "code",
     "collapsed": false,
     "input": [
      "print df.drop(['a'],1) # positional arguments - corresponds to axis = 1 i.e drop columns"
     ],
     "language": "python",
     "metadata": {
      "internals": {
       "frag_helper": "fragment_end",
       "frag_number": 44
      },
      "slideshow": {
       "slide_type": "fragment"
      }
     },
     "outputs": [
      {
       "output_type": "stream",
       "stream": "stdout",
       "text": [
        "        delt\n",
        "1   0.129644\n",
        "2   0.418015\n",
        "3   0.903311\n",
        "4  -0.429001\n",
        "5  -0.507313\n",
        "6  -2.005849\n",
        "7  -0.406377\n",
        "8  -0.669250\n",
        "9   0.410150\n",
        "10  0.313827\n"
       ]
      }
     ],
     "prompt_number": 45
    },
    {
     "cell_type": "code",
     "collapsed": false,
     "input": [
      "df[:3]"
     ],
     "language": "python",
     "metadata": {
      "internals": {
       "frag_helper": "fragment_end",
       "frag_number": 45
      },
      "slideshow": {
       "slide_type": "fragment"
      }
     },
     "outputs": [
      {
       "html": [
        "<div style=\"max-height:1000px;max-width:1500px;overflow:auto;\">\n",
        "<table border=\"1\" class=\"dataframe\">\n",
        "  <thead>\n",
        "    <tr style=\"text-align: right;\">\n",
        "      <th></th>\n",
        "      <th>a</th>\n",
        "      <th>delt</th>\n",
        "    </tr>\n",
        "  </thead>\n",
        "  <tbody>\n",
        "    <tr>\n",
        "      <th>1</th>\n",
        "      <td> 0.785383</td>\n",
        "      <td> 0.129644</td>\n",
        "    </tr>\n",
        "    <tr>\n",
        "      <th>2</th>\n",
        "      <td> 0.025686</td>\n",
        "      <td> 0.418015</td>\n",
        "    </tr>\n",
        "    <tr>\n",
        "      <th>3</th>\n",
        "      <td> 1.882928</td>\n",
        "      <td> 0.903311</td>\n",
        "    </tr>\n",
        "  </tbody>\n",
        "</table>\n",
        "</div>"
       ],
       "metadata": {},
       "output_type": "pyout",
       "prompt_number": 46,
       "text": [
        "          a      delt\n",
        "1  0.785383  0.129644\n",
        "2  0.025686  0.418015\n",
        "3  1.882928  0.903311"
       ]
      }
     ],
     "prompt_number": 46
    },
    {
     "cell_type": "code",
     "collapsed": false,
     "input": [
      "df[:3] = 4\n",
      "print df"
     ],
     "language": "python",
     "metadata": {
      "internals": {
       "frag_helper": "fragment_end",
       "frag_number": 46
      },
      "slideshow": {
       "slide_type": "fragment"
      }
     },
     "outputs": [
      {
       "output_type": "stream",
       "stream": "stdout",
       "text": [
        "           a      delt\n",
        "1   4.000000  4.000000\n",
        "2   4.000000  4.000000\n",
        "3   4.000000  4.000000\n",
        "4   2.826030 -0.429001\n",
        "5  -1.743938 -0.507313\n",
        "6   0.035708 -2.005849\n",
        "7   0.242576 -0.406377\n",
        "8   0.075265 -0.669250\n",
        "9  -0.226572  0.410150\n",
        "10  0.654457  0.313827\n"
       ]
      }
     ],
     "prompt_number": 48
    },
    {
     "cell_type": "code",
     "collapsed": false,
     "input": [
      "salary_data.ix[0]"
     ],
     "language": "python",
     "metadata": {
      "internals": {
       "frag_helper": "fragment_end",
       "frag_number": 47
      },
      "slideshow": {
       "slide_type": "fragment"
      }
     },
     "outputs": [
      {
       "metadata": {},
       "output_type": "pyout",
       "prompt_number": 131,
       "text": [
        "Name                       AARON,  ELVIA J\n",
        "Position Title            WATER RATE TAKER\n",
        "Department                     WATER MGMNT\n",
        "Employee Annual Salary           $85512.00\n",
        "Name: WATER MGMNT EMPLOYEE, dtype: object"
       ]
      }
     ],
     "prompt_number": 131
    },
    {
     "cell_type": "code",
     "collapsed": false,
     "input": [
      "salary_data.loc['POLICE EMPLOYEE'].head()"
     ],
     "language": "python",
     "metadata": {
      "internals": {
       "frag_helper": "fragment_end",
       "frag_number": 48
      },
      "slideshow": {
       "slide_type": "fragment"
      }
     },
     "outputs": [
      {
       "html": [
        "<div style=\"max-height:1000px;max-width:1500px;overflow:auto;\">\n",
        "<table border=\"1\" class=\"dataframe\">\n",
        "  <thead>\n",
        "    <tr style=\"text-align: right;\">\n",
        "      <th></th>\n",
        "      <th>Name</th>\n",
        "      <th>Position Title</th>\n",
        "      <th>Department</th>\n",
        "      <th>Employee Annual Salary</th>\n",
        "    </tr>\n",
        "    <tr>\n",
        "      <th>new_id</th>\n",
        "      <th></th>\n",
        "      <th></th>\n",
        "      <th></th>\n",
        "      <th></th>\n",
        "    </tr>\n",
        "  </thead>\n",
        "  <tbody>\n",
        "    <tr>\n",
        "      <th>POLICE EMPLOYEE</th>\n",
        "      <td>     AARON,  JEFFERY M</td>\n",
        "      <td> POLICE OFFICER</td>\n",
        "      <td> POLICE</td>\n",
        "      <td> $75372.00</td>\n",
        "    </tr>\n",
        "    <tr>\n",
        "      <th>POLICE EMPLOYEE</th>\n",
        "      <td>      ABBATE,  TERRY M</td>\n",
        "      <td> POLICE OFFICER</td>\n",
        "      <td> POLICE</td>\n",
        "      <td> $80724.00</td>\n",
        "    </tr>\n",
        "    <tr>\n",
        "      <th>POLICE EMPLOYEE</th>\n",
        "      <td>     ABBOTT,  LYNISE M</td>\n",
        "      <td>      CLERK III</td>\n",
        "      <td> POLICE</td>\n",
        "      <td> $41784.00</td>\n",
        "    </tr>\n",
        "    <tr>\n",
        "      <th>POLICE EMPLOYEE</th>\n",
        "      <td>       ABDALLAH,  ZAID</td>\n",
        "      <td> POLICE OFFICER</td>\n",
        "      <td> POLICE</td>\n",
        "      <td> $43104.00</td>\n",
        "    </tr>\n",
        "    <tr>\n",
        "      <th>POLICE EMPLOYEE</th>\n",
        "      <td> ABDELHADI,  ABDALMAHD</td>\n",
        "      <td> POLICE OFFICER</td>\n",
        "      <td> POLICE</td>\n",
        "      <td> $75372.00</td>\n",
        "    </tr>\n",
        "  </tbody>\n",
        "</table>\n",
        "</div>"
       ],
       "metadata": {},
       "output_type": "pyout",
       "prompt_number": 146,
       "text": [
        "                                  Name  Position Title Department  \\\n",
        "new_id                                                              \n",
        "POLICE EMPLOYEE      AARON,  JEFFERY M  POLICE OFFICER     POLICE   \n",
        "POLICE EMPLOYEE       ABBATE,  TERRY M  POLICE OFFICER     POLICE   \n",
        "POLICE EMPLOYEE      ABBOTT,  LYNISE M       CLERK III     POLICE   \n",
        "POLICE EMPLOYEE        ABDALLAH,  ZAID  POLICE OFFICER     POLICE   \n",
        "POLICE EMPLOYEE  ABDELHADI,  ABDALMAHD  POLICE OFFICER     POLICE   \n",
        "\n",
        "                Employee Annual Salary  \n",
        "new_id                                  \n",
        "POLICE EMPLOYEE              $75372.00  \n",
        "POLICE EMPLOYEE              $80724.00  \n",
        "POLICE EMPLOYEE              $41784.00  \n",
        "POLICE EMPLOYEE              $43104.00  \n",
        "POLICE EMPLOYEE              $75372.00  "
       ]
      }
     ],
     "prompt_number": 146
    },
    {
     "cell_type": "code",
     "collapsed": false,
     "input": [
      "salary_data.iloc[0]"
     ],
     "language": "python",
     "metadata": {
      "internals": {
       "frag_helper": "fragment_end",
       "frag_number": 49
      },
      "slideshow": {
       "slide_type": "fragment"
      }
     },
     "outputs": [
      {
       "metadata": {},
       "output_type": "pyout",
       "prompt_number": 133,
       "text": [
        "Name                       AARON,  ELVIA J\n",
        "Position Title            WATER RATE TAKER\n",
        "Department                     WATER MGMNT\n",
        "Employee Annual Salary           $85512.00\n",
        "Name: WATER MGMNT EMPLOYEE, dtype: object"
       ]
      }
     ],
     "prompt_number": 133
    },
    {
     "cell_type": "code",
     "collapsed": false,
     "input": [
      "salary_data.ix[0,'Department']"
     ],
     "language": "python",
     "metadata": {
      "internals": {
       "frag_helper": "fragment_end",
       "frag_number": 50
      },
      "slideshow": {
       "slide_type": "fragment"
      }
     },
     "outputs": [
      {
       "metadata": {},
       "output_type": "pyout",
       "prompt_number": 134,
       "text": [
        "'WATER MGMNT'"
       ]
      }
     ],
     "prompt_number": 134
    },
    {
     "cell_type": "code",
     "collapsed": false,
     "input": [
      "salary_data.xs('POLICE EMPLOYEE').head() # similar to loc but suited for multilevel indexed arrays"
     ],
     "language": "python",
     "metadata": {
      "internals": {
       "frag_helper": "fragment_end",
       "frag_number": 51
      },
      "slideshow": {
       "slide_type": "fragment"
      }
     },
     "outputs": [
      {
       "html": [
        "<div style=\"max-height:1000px;max-width:1500px;overflow:auto;\">\n",
        "<table border=\"1\" class=\"dataframe\">\n",
        "  <thead>\n",
        "    <tr style=\"text-align: right;\">\n",
        "      <th></th>\n",
        "      <th>Name</th>\n",
        "      <th>Position Title</th>\n",
        "      <th>Department</th>\n",
        "      <th>Employee Annual Salary</th>\n",
        "    </tr>\n",
        "    <tr>\n",
        "      <th>new_id</th>\n",
        "      <th></th>\n",
        "      <th></th>\n",
        "      <th></th>\n",
        "      <th></th>\n",
        "    </tr>\n",
        "  </thead>\n",
        "  <tbody>\n",
        "    <tr>\n",
        "      <th>POLICE EMPLOYEE</th>\n",
        "      <td>     AARON,  JEFFERY M</td>\n",
        "      <td> POLICE OFFICER</td>\n",
        "      <td> POLICE</td>\n",
        "      <td> $75372.00</td>\n",
        "    </tr>\n",
        "    <tr>\n",
        "      <th>POLICE EMPLOYEE</th>\n",
        "      <td>      ABBATE,  TERRY M</td>\n",
        "      <td> POLICE OFFICER</td>\n",
        "      <td> POLICE</td>\n",
        "      <td> $80724.00</td>\n",
        "    </tr>\n",
        "    <tr>\n",
        "      <th>POLICE EMPLOYEE</th>\n",
        "      <td>     ABBOTT,  LYNISE M</td>\n",
        "      <td>      CLERK III</td>\n",
        "      <td> POLICE</td>\n",
        "      <td> $41784.00</td>\n",
        "    </tr>\n",
        "    <tr>\n",
        "      <th>POLICE EMPLOYEE</th>\n",
        "      <td>       ABDALLAH,  ZAID</td>\n",
        "      <td> POLICE OFFICER</td>\n",
        "      <td> POLICE</td>\n",
        "      <td> $43104.00</td>\n",
        "    </tr>\n",
        "    <tr>\n",
        "      <th>POLICE EMPLOYEE</th>\n",
        "      <td> ABDELHADI,  ABDALMAHD</td>\n",
        "      <td> POLICE OFFICER</td>\n",
        "      <td> POLICE</td>\n",
        "      <td> $75372.00</td>\n",
        "    </tr>\n",
        "  </tbody>\n",
        "</table>\n",
        "</div>"
       ],
       "metadata": {},
       "output_type": "pyout",
       "prompt_number": 147,
       "text": [
        "                                  Name  Position Title Department  \\\n",
        "new_id                                                              \n",
        "POLICE EMPLOYEE      AARON,  JEFFERY M  POLICE OFFICER     POLICE   \n",
        "POLICE EMPLOYEE       ABBATE,  TERRY M  POLICE OFFICER     POLICE   \n",
        "POLICE EMPLOYEE      ABBOTT,  LYNISE M       CLERK III     POLICE   \n",
        "POLICE EMPLOYEE        ABDALLAH,  ZAID  POLICE OFFICER     POLICE   \n",
        "POLICE EMPLOYEE  ABDELHADI,  ABDALMAHD  POLICE OFFICER     POLICE   \n",
        "\n",
        "                Employee Annual Salary  \n",
        "new_id                                  \n",
        "POLICE EMPLOYEE              $75372.00  \n",
        "POLICE EMPLOYEE              $80724.00  \n",
        "POLICE EMPLOYEE              $41784.00  \n",
        "POLICE EMPLOYEE              $43104.00  \n",
        "POLICE EMPLOYEE              $75372.00  "
       ]
      }
     ],
     "prompt_number": 147
    },
    {
     "cell_type": "code",
     "collapsed": false,
     "input": [
      "# Creating a multilevel index and deleting the old index column\n",
      "salary_data = salary_data.reset_index().set_index(['Department','Position Title']).drop('new_id',1)"
     ],
     "language": "python",
     "metadata": {
      "internals": {
       "frag_helper": "fragment_end",
       "frag_number": 52
      },
      "slideshow": {
       "slide_type": "fragment"
      }
     },
     "outputs": [
      {
       "output_type": "stream",
       "stream": "stdout",
       "text": [
        "                                                                                    Name  \\\n",
        "Department       Position Title                                                            \n",
        "WATER MGMNT      WATER RATE TAKER                                        AARON,  ELVIA J   \n",
        "POLICE           POLICE OFFICER                                        AARON,  JEFFERY M   \n",
        "GENERAL SERVICES CHIEF CONTRACT EXPEDITER                            AARON,  KIMBERLEI R   \n",
        "WATER MGMNT      CIVIL ENGINEER IV                                   ABAD JR,  VICENTE M   \n",
        "AVIATION         ELECTRICAL MECHANIC                               ABBATACOLA,  ROBERT J   \n",
        "FIRE             FIREFIGHTER                                       ABBATEMARCO,  JAMES J   \n",
        "POLICE           POLICE OFFICER                                         ABBATE,  TERRY M   \n",
        "FAMILY & SUPPORT FOSTER GRANDPARENT                                     ABBOTT,  BETTY L   \n",
        "POLICE           CLERK III                                             ABBOTT,  LYNISE M   \n",
        "IPRA             INVESTIGATOR - IPRA II                           ABBRUZZESE,  WILLIAM J   \n",
        "POLICE           POLICE OFFICER                                          ABDALLAH,  ZAID   \n",
        "                 POLICE OFFICER                                    ABDELHADI,  ABDALMAHD   \n",
        "FIRE             FIREFIGHTER (PER ARBITRATORS AWARD)-PARAMEDIC       ABDELLATIF,  AREF R   \n",
        "POLICE           POLICE OFFICER                                       ABDELMAJEID,  AZIZ   \n",
        "OEMC             TRAFFIC CONTROL AIDE-HOURLY                          ABDELQAWI,  YOSEPH   \n",
        "FIRE             PARAMEDIC                                           ABDOLLAHZADEH,  ALI   \n",
        "WATER MGMNT      ENGINEERING TECHNICIAN VI                      ABDUL-KARIM,  MUHAMMAD A   \n",
        "CITY COUNCIL     LEGISLATIVE AIDE                                       ABDULLAH,  ASKIA   \n",
        "FIRE             FIREFIGHTER-EMT                                     ABDULLAH,  DANIEL N   \n",
        "                 LIEUTENANT                                             ABDULLAH,  KEVIN   \n",
        "POLICE           CROSSING GUARD                                     ABDULLAH,  LAKENYA N   \n",
        "GENERAL SERVICES ELECTRICAL MECHANIC-AUTO-POLICE MTR MNT             ABDULLAH,  RASHAD J   \n",
        "POLICE           POLICE OFFICER                                        ABEJERO,  JASON V   \n",
        "CITY COUNCIL     ASST TO THE ALDERMAN                                  ABELS,  KENNETH L   \n",
        "STREETS & SAN    MOTOR TRUCK DRIVER                                ABERCROMBIE,  TIMOTHY   \n",
        "FAMILY & SUPPORT SENIOR PROGRAMMER/ANALYST                        ABOUELKHEIR,  HASSAN A   \n",
        "WATER MGMNT      CIVIL ENGINEER IV                                    ABRAHAM,  GIRLEY T   \n",
        "BUSINESS AFFAIRS ENGINEERING TECHNICIAN V                             ABRAHAM,  GODWIN K   \n",
        "OEMC             SUPERVISING TRAFFIC CONTROL AIDE                  ABRAMAVICIUS,  ANNA A   \n",
        "STREETS & SAN    SANITATION LABORER                                  ABRAMS,  DANIELLE T   \n",
        "...                                                                                  ...   \n",
        "POLICE           POLICE OFFICER                                          ZUNIGA,  JUAN M   \n",
        "                 POLICE OFFICER                                          ZUNIGA,  JURDON   \n",
        "                 POLICE OFFICER                                           ZUNIGA,  OSCAR   \n",
        "                 POLICE OFFICER                                          ZUNIGA,  RONALD   \n",
        "STREETS & SAN    GENERAL LABORER - DSS                                   ZUNIGA,  THOMAS   \n",
        "FIRE             FIREFIGHTER-EMT                                        ZUNIGA,  VICENTE   \n",
        "WATER MGMNT      LABORER - APPRENTICE                                        ZUNO,  ERIK   \n",
        "FIRE             LIEUTENANT-EMT                                           ZUPAN,  BILL M   \n",
        "POLICE           POLICE OFFICER                                       ZUPAN,  VICTORIA J   \n",
        "                 CROSSING GUARD                                       ZURAWSKI,  CAROL A   \n",
        "GENERAL SERVICES FRM OF MACHINISTS - AUTOMOTIVE                       ZURAWSKI,  JEFFREY   \n",
        "STREETS & SAN    SANITATION LABORER                                     ZURAWSKI,  MAC Z   \n",
        "POLICE           POLICE OFFICER                                        ZURAWSKI,  MARY E   \n",
        "OEMC             ELECTRICAL MECHANIC                                     ZUREK,  FRANCIS   \n",
        "WATER MGMNT      CONSTRUCTION LABORER                                      ZUREK,  HENRY   \n",
        "FINANCE          SENIOR PUBLIC INFORMATION OFFICER                        ZUREK,  MARY H   \n",
        "LAW              LEGAL SECRETARY                                         ZVANJA,  TINA M   \n",
        "POLICE           CROSSING GUARD                                   ZWARYCZ MANN,  IRENE A   \n",
        "TRANSPORTN       POOL MOTOR TRUCK DRIVER                              ZWARYCZ,  THOMAS J   \n",
        "AVIATION         AIRPORT OPERATIONS SUPVSR I                          ZWIESLER,  MATTHEW   \n",
        "POLICE           POLICE OFFICER                                         ZWIT,  JEFFREY J   \n",
        "FIRE             FIREFIGHTER-EMT                                     ZWOLFER,  MATTHEW W   \n",
        "POLICE           POLICE OFFICER                                         ZWOLSKI,  MARY L   \n",
        "                 POLICE OFFICER                                            ZYDEK,  BRYAN   \n",
        "GENERAL SERVICES MACHINIST (AUTOMOTIVE)                                 ZYGADLO,  JOHN P   \n",
        "                 FRM OF MACHINISTS - AUTOMOTIVE                      ZYGADLO,  MICHAEL J   \n",
        "POLICE           POLICE OFFICER                                       ZYGOWICZ,  PETER J   \n",
        "                 POLICE OFFICER                                        ZYMANTAS,  MARK E   \n",
        "                 POLICE OFFICER                                      ZYRKOWSKI,  CARLO E   \n",
        "DoIT             CHIEF DATA BASE ANALYST                             ZYSKOWSKI,  DARIUSZ   \n",
        "\n",
        "                                                               Employee Annual Salary  \n",
        "Department       Position Title                                                        \n",
        "WATER MGMNT      WATER RATE TAKER                                           $85512.00  \n",
        "POLICE           POLICE OFFICER                                             $75372.00  \n",
        "GENERAL SERVICES CHIEF CONTRACT EXPEDITER                                   $80916.00  \n",
        "WATER MGMNT      CIVIL ENGINEER IV                                          $99648.00  \n",
        "AVIATION         ELECTRICAL MECHANIC                                        $89440.00  \n",
        "FIRE             FIREFIGHTER                                                $78012.00  \n",
        "POLICE           POLICE OFFICER                                             $80724.00  \n",
        "FAMILY & SUPPORT FOSTER GRANDPARENT                                          $2756.00  \n",
        "POLICE           CLERK III                                                  $41784.00  \n",
        "IPRA             INVESTIGATOR - IPRA II                                     $62832.00  \n",
        "POLICE           POLICE OFFICER                                             $43104.00  \n",
        "                 POLICE OFFICER                                             $75372.00  \n",
        "FIRE             FIREFIGHTER (PER ARBITRATORS AWARD)-PARAMEDIC              $87792.00  \n",
        "POLICE           POLICE OFFICER                                             $75372.00  \n",
        "OEMC             TRAFFIC CONTROL AIDE-HOURLY                                $19167.20  \n",
        "FIRE             PARAMEDIC                                                  $75372.00  \n",
        "WATER MGMNT      ENGINEERING TECHNICIAN VI                                  $96384.00  \n",
        "CITY COUNCIL     LEGISLATIVE AIDE                                           $25008.00  \n",
        "FIRE             FIREFIGHTER-EMT                                            $81906.00  \n",
        "                 LIEUTENANT                                                $102978.00  \n",
        "POLICE           CROSSING GUARD                                             $16286.40  \n",
        "GENERAL SERVICES ELECTRICAL MECHANIC-AUTO-POLICE MTR MNT                    $89440.00  \n",
        "POLICE           POLICE OFFICER                                             $78012.00  \n",
        "CITY COUNCIL     ASST TO THE ALDERMAN                                       $52008.00  \n",
        "STREETS & SAN    MOTOR TRUCK DRIVER                                         $70408.00  \n",
        "FAMILY & SUPPORT SENIOR PROGRAMMER/ANALYST                                  $99648.00  \n",
        "WATER MGMNT      CIVIL ENGINEER IV                                          $99648.00  \n",
        "BUSINESS AFFAIRS ENGINEERING TECHNICIAN V                                   $91980.00  \n",
        "OEMC             SUPERVISING TRAFFIC CONTROL AIDE                           $54432.00  \n",
        "STREETS & SAN    SANITATION LABORER                                         $69576.00  \n",
        "...                                                                               ...  \n",
        "POLICE           POLICE OFFICER                                             $78012.00  \n",
        "                 POLICE OFFICER                                             $43104.00  \n",
        "                 POLICE OFFICER                                             $43104.00  \n",
        "                 POLICE OFFICER                                             $78012.00  \n",
        "STREETS & SAN    GENERAL LABORER - DSS                                      $40560.00  \n",
        "FIRE             FIREFIGHTER-EMT                                            $79140.00  \n",
        "WATER MGMNT      LABORER - APPRENTICE                                       $46176.00  \n",
        "FIRE             LIEUTENANT-EMT                                             $98394.00  \n",
        "POLICE           POLICE OFFICER                                             $75372.00  \n",
        "                 CROSSING GUARD                                             $20560.80  \n",
        "GENERAL SERVICES FRM OF MACHINISTS - AUTOMOTIVE                             $96553.60  \n",
        "STREETS & SAN    SANITATION LABORER                                         $69576.00  \n",
        "POLICE           POLICE OFFICER                                             $83706.00  \n",
        "OEMC             ELECTRICAL MECHANIC                                        $89440.00  \n",
        "WATER MGMNT      CONSTRUCTION LABORER                                       $76960.00  \n",
        "FINANCE          SENIOR PUBLIC INFORMATION OFFICER                          $80916.00  \n",
        "LAW              LEGAL SECRETARY                                            $66492.00  \n",
        "POLICE           CROSSING GUARD                                             $16286.40  \n",
        "TRANSPORTN       POOL MOTOR TRUCK DRIVER                                    $70408.00  \n",
        "AVIATION         AIRPORT OPERATIONS SUPVSR I                                $67128.00  \n",
        "POLICE           POLICE OFFICER                                             $78012.00  \n",
        "FIRE             FIREFIGHTER-EMT                                            $81906.00  \n",
        "POLICE           POLICE OFFICER                                             $80724.00  \n",
        "                 POLICE OFFICER                                             $75372.00  \n",
        "GENERAL SERVICES MACHINIST (AUTOMOTIVE)                                     $91353.60  \n",
        "                 FRM OF MACHINISTS - AUTOMOTIVE                             $96553.60  \n",
        "POLICE           POLICE OFFICER                                             $78012.00  \n",
        "                 POLICE OFFICER                                             $78012.00  \n",
        "                 POLICE OFFICER                                             $80724.00  \n",
        "DoIT             CHIEF DATA BASE ANALYST                                   $110352.00  \n",
        "\n",
        "[32054 rows x 2 columns]\n"
       ]
      }
     ],
     "prompt_number": 151
    },
    {
     "cell_type": "code",
     "collapsed": false,
     "input": [
      "print salary_data.head(20)\n",
      "print salary_data.shape"
     ],
     "language": "python",
     "metadata": {
      "internals": {
       "frag_helper": "fragment_end",
       "frag_number": 53
      },
      "slideshow": {
       "slide_type": "fragment"
      }
     },
     "outputs": [
      {
       "output_type": "stream",
       "stream": "stdout",
       "text": [
        "                                                                                    Name  \\\n",
        "Department       Position Title                                                            \n",
        "WATER MGMNT      WATER RATE TAKER                                        AARON,  ELVIA J   \n",
        "POLICE           POLICE OFFICER                                        AARON,  JEFFERY M   \n",
        "GENERAL SERVICES CHIEF CONTRACT EXPEDITER                            AARON,  KIMBERLEI R   \n",
        "WATER MGMNT      CIVIL ENGINEER IV                                   ABAD JR,  VICENTE M   \n",
        "AVIATION         ELECTRICAL MECHANIC                               ABBATACOLA,  ROBERT J   \n",
        "FIRE             FIREFIGHTER                                       ABBATEMARCO,  JAMES J   \n",
        "POLICE           POLICE OFFICER                                         ABBATE,  TERRY M   \n",
        "FAMILY & SUPPORT FOSTER GRANDPARENT                                     ABBOTT,  BETTY L   \n",
        "POLICE           CLERK III                                             ABBOTT,  LYNISE M   \n",
        "IPRA             INVESTIGATOR - IPRA II                           ABBRUZZESE,  WILLIAM J   \n",
        "POLICE           POLICE OFFICER                                          ABDALLAH,  ZAID   \n",
        "                 POLICE OFFICER                                    ABDELHADI,  ABDALMAHD   \n",
        "FIRE             FIREFIGHTER (PER ARBITRATORS AWARD)-PARAMEDIC       ABDELLATIF,  AREF R   \n",
        "POLICE           POLICE OFFICER                                       ABDELMAJEID,  AZIZ   \n",
        "OEMC             TRAFFIC CONTROL AIDE-HOURLY                          ABDELQAWI,  YOSEPH   \n",
        "FIRE             PARAMEDIC                                           ABDOLLAHZADEH,  ALI   \n",
        "WATER MGMNT      ENGINEERING TECHNICIAN VI                      ABDUL-KARIM,  MUHAMMAD A   \n",
        "CITY COUNCIL     LEGISLATIVE AIDE                                       ABDULLAH,  ASKIA   \n",
        "FIRE             FIREFIGHTER-EMT                                     ABDULLAH,  DANIEL N   \n",
        "                 LIEUTENANT                                             ABDULLAH,  KEVIN   \n",
        "\n",
        "                                                               Employee Annual Salary  \n",
        "Department       Position Title                                                        \n",
        "WATER MGMNT      WATER RATE TAKER                                           $85512.00  \n",
        "POLICE           POLICE OFFICER                                             $75372.00  \n",
        "GENERAL SERVICES CHIEF CONTRACT EXPEDITER                                   $80916.00  \n",
        "WATER MGMNT      CIVIL ENGINEER IV                                          $99648.00  \n",
        "AVIATION         ELECTRICAL MECHANIC                                        $89440.00  \n",
        "FIRE             FIREFIGHTER                                                $78012.00  \n",
        "POLICE           POLICE OFFICER                                             $80724.00  \n",
        "FAMILY & SUPPORT FOSTER GRANDPARENT                                          $2756.00  \n",
        "POLICE           CLERK III                                                  $41784.00  \n",
        "IPRA             INVESTIGATOR - IPRA II                                     $62832.00  \n",
        "POLICE           POLICE OFFICER                                             $43104.00  \n",
        "                 POLICE OFFICER                                             $75372.00  \n",
        "FIRE             FIREFIGHTER (PER ARBITRATORS AWARD)-PARAMEDIC              $87792.00  \n",
        "POLICE           POLICE OFFICER                                             $75372.00  \n",
        "OEMC             TRAFFIC CONTROL AIDE-HOURLY                                $19167.20  \n",
        "FIRE             PARAMEDIC                                                  $75372.00  \n",
        "WATER MGMNT      ENGINEERING TECHNICIAN VI                                  $96384.00  \n",
        "CITY COUNCIL     LEGISLATIVE AIDE                                           $25008.00  \n",
        "FIRE             FIREFIGHTER-EMT                                            $81906.00  \n",
        "                 LIEUTENANT                                                $102978.00  \n",
        "(32054, 2)\n"
       ]
      }
     ],
     "prompt_number": 157
    },
    {
     "cell_type": "code",
     "collapsed": false,
     "input": [
      "salary_data.index"
     ],
     "language": "python",
     "metadata": {
      "internals": {
       "frag_helper": "fragment_end",
       "frag_number": 54
      },
      "slideshow": {
       "slide_type": "fragment"
      }
     },
     "outputs": [
      {
       "metadata": {},
       "output_type": "pyout",
       "prompt_number": 159,
       "text": [
        "MultiIndex(levels=[[u'ADMIN HEARNG', u'ANIMAL CONTRL', u'AVIATION', u'BOARD OF ELECTION', u'BOARD OF ETHICS', u'BUDGET & MGMT', u'BUILDINGS', u'BUSINESS AFFAIRS', u'CITY CLERK', u'CITY COUNCIL', u'COMMUNITY DEVELOPMENT', u'CULTURAL AFFAIRS', u'DISABILITIES', u'DoIT', u'FAMILY & SUPPORT', u'FINANCE', u'FIRE', u'GENERAL SERVICES', u'HEALTH', u'HUMAN RELATIONS', u'HUMAN RESOURCES', u'INSPECTOR GEN', u'IPRA', u'LAW', u'LICENSE APPL COMM', u'MAYOR'S OFFICE', u'OEMC', u'POLICE', u'POLICE BOARD', u'PROCUREMENT', u'PUBLIC LIBRARY', u'STREETS & SAN', u'TRANSPORTN', u'TREASURER', u'WATER MGMNT'], [u'A/MGR COM SVC-ELECTIONS', u'A/MGR OF MIS-ELECTIONS', u'A/SUPRV REDISTRICTING', u'ACCIDENT ADJUSTER', u'ACCOUNTANT I', u'ACCOUNTANT II', u'ACCOUNTANT III', u'ACCOUNTANT IV', u'ACCOUNTING TECHNICIAN I', u'ACCOUNTING TECHNICIAN II', u'ACCOUNTING TECHNICIAN III', u'ADMIN ASST II - LABORERS', u'ADMIN SERVICES OFFICER I-EXCLUDED', u'ADMINISTRATIVE ASST', u'ADMINISTRATIVE ASST - CORPORATION COUNSEL', u'ADMINISTRATIVE ASST - O'HARE', u'ADMINISTRATIVE ASST - OFFICE ADMINISTRATOR', u'ADMINISTRATIVE ASST II', u'ADMINISTRATIVE ASST II - EXCLUDED', u'ADMINISTRATIVE ASST III', u'ADMINISTRATIVE ASST III - EXCLUDED', u'ADMINISTRATIVE ASST TO DEPUTY CORPORATION COUNSEL', u'ADMINISTRATIVE DEPUTY', u'ADMINISTRATIVE MANAGER', u'ADMINISTRATIVE SECRETARY', u'ADMINISTRATIVE SERVICES OFFICER I', u'ADMINISTRATIVE SERVICES OFFICER II', u'ADMINISTRATIVE STAFF INVESTIGATOR', u'ADMINISTRATIVE SUPVSR', u'AIRPORT FACILITIES MANAGER', u'AIRPORT MAINTENANCE FOREMAN', u'AIRPORT MANAGER - MIDWAY', u'AIRPORT MANAGER - O'HARE', u'AIRPORT OPERATIONS SUPVSR I', u'AIRPORT OPERATIONS SUPVSR II', u'ALDERMAN', u'ALDERMANIC AIDE', u'AMBULANCE COMMANDER', u'ANALYST - IDT', u'ANIMAL CARE AIDE I', u'ANIMAL CARE AIDE II', u'ANIMAL CARE CLERK - HOURLY', u'ANIMAL CONTROL INSPECTOR', u'ANIMAL CONTROL OFFICER', u'ANIMAL PLACEMENT COORD', u'ANIMAL SHELTER MANAGER', u'ARCHITECT III', u'ARCHITECT IV', u'ARCHITECTURAL IRON WORKER', u'ARCHIVAL SPECIALIST', u'AREA COORD - CAPS', u'ASBESTOS WORKER', u'ASPHALT FOREMAN', u'ASPHALT LABORER', u'ASPHALT SMOOTHER', u'ASSISTANT DIRECTOR OF FINANCE', u'ASSOC CLASSIFICATION & COMP ANALYST', u'ASSOCIATE COMPLIANCE OFFICER', u'ASST ADMINISTRATIVE SECRETARY I', u'ASST ADMINISTRATIVE SECRETARY II', u'ASST ADMINISTRATIVE SECRETARY III', u'ASST AIRPORT MANAGER - MIDWAY', u'ASST BENEFITS MANAGER', u'ASST BUDGET DIR', u'ASST CHIEF ADMINISTRATIVE OFFICER', u'ASST CHIEF AIRPORT OPERATIONS SUPVSR', u'ASST CHIEF ELEVATOR INSPECTOR', u'ASST CHIEF ENGINEER OF SEWERS', u'ASST CHIEF FILTRATION ENGINEER', u'ASST CHIEF HIGHWAY ENGINEER', u'ASST CHIEF LABOR NEGOTIATOR', u'ASST CHIEF OPERATING ENGINEER', u'ASST CHIEF PLUMBING INSPECTOR', u'ASST CITY TREASURER', u'ASST CNCL COMM SEC', u'ASST COMMANDING FIRE MARSHAL-EMT', u'ASST COMMISSIONER', u'ASST COMPTROLLER', u'ASST COORD OF COLLECTION MANAGEMENT', u'ASST CORPORATION COUNSEL', u'ASST CORPORATION COUNSEL SUPVSR', u'ASST DEPUTY CHIEF PARAMEDIC', u'ASST DEPUTY FIRE COMMISSIONER', u'ASST DIR', u'ASST DIR OF BUILDINGS MANAGEMENT', u'ASST DIR OF CONSERVATION INSPECTIONS', u'ASST DIR OF HUMAN SERVICES', u'ASST DIR OF INFORMATION SYSTEMS', u'ASST DIR OF PERSONNEL SERVICES', u'ASST DIR OF PUBLIC HEALTH NURSING', u'ASST DIRECTOR OF CHILDREN SERVICES', u'ASST DISTRICT MANAGER-HUMAN SERVICES', u'ASST DISTRICT SUPERINTENDENT', u'ASST DIVISION SUPERINTENDENT', u'ASST FOREMAN OF SEWER CLEANING', u'ASST GENERAL COUNSEL', u'ASST GENERAL SUPT OF STREETS AND SANITATION', u'ASST INSPECTOR GENERAL', u'ASST MANAGER  OF COLLECTIONS', u'ASST MANAGER OF ADMINISTRATIVE ADJUDICATION', ...]],\n",
        "           labels=[[34, 27, 17, 34, 2, 16, 27, 14, 27, 22, 27, 27, 16, 27, 26, 16, 34, 9, 16, 16, 27, 17, 27, 9, 31, 14, 34, 7, 26, 31, 27, 16, 16, 34, 31, 32, 18, 14, 16, 27, 2, 27, 18, 34, 27, 31, 34, 27, 27, 27, 31, 31, 25, 27, 27, 27, 27, 18, 27, 16, 16, 27, 27, 27, 32, 27, 34, 17, 16, 27, 7, 27, 2, 27, 27, 27, 23, 27, 16, 27, 27, 27, 30, 27, 31, 2, 31, 17, 27, 23, 27, 31, 15, 16, 0, 2, 27, 27, 16, 32, ...], [1088, 764, 181, 223, 433, 508, 764, 551, 231, 613, 764, 764, 510, 764, 1055, 735, 448, 636, 511, 653, 308, 435, 764, 115, 716, 910, 223, 447, 1005, 873, 764, 37, 511, 925, 1067, 1060, 748, 891, 511, 764, 433, 764, 896, 221, 769, 716, 265, 764, 764, 764, 418, 716, 58, 764, 764, 764, 764, 254, 764, 508, 654, 764, 764, 764, 53, 764, 716, 716, 508, 768, 911, 764, 137, 764, 764, 764, 80, 764, 511, 308, 764, 764, 645, 764, 873, 738, 849, 265, 764, 79, 764, 873, 149, 508, 950, 314, 764, 768, 737, 716, ...]],\n",
        "           names=[u'Department', u'Position Title'])"
       ]
      }
     ],
     "prompt_number": 159
    },
    {
     "cell_type": "code",
     "collapsed": false,
     "input": [
      "print salary_data.loc['WATER MGMNT'].head()"
     ],
     "language": "python",
     "metadata": {
      "internals": {
       "frag_helper": "fragment_end",
       "frag_number": 55
      },
      "slideshow": {
       "slide_type": "fragment"
      }
     },
     "outputs": [
      {
       "output_type": "stream",
       "stream": "stdout",
       "text": [
        "                                               Name Employee Annual Salary\n",
        "Position Title                                                            \n",
        "WATER RATE TAKER                    AARON,  ELVIA J              $85512.00\n",
        "CIVIL ENGINEER IV               ABAD JR,  VICENTE M              $99648.00\n",
        "ENGINEERING TECHNICIAN VI  ABDUL-KARIM,  MUHAMMAD A              $96384.00\n",
        "CIVIL ENGINEER IV                ABRAHAM,  GIRLEY T              $99648.00\n",
        "SEWER BRICKLAYER                      ABREU,  DILAN              $86486.40\n"
       ]
      }
     ],
     "prompt_number": 198
    },
    {
     "cell_type": "code",
     "collapsed": false,
     "input": [
      "salary_data.sort_index().ix['WATER MGMNT','WATER RATE TAKER'].head()"
     ],
     "language": "python",
     "metadata": {
      "internals": {
       "frag_helper": "fragment_end",
       "frag_number": 56
      },
      "slideshow": {
       "slide_type": "fragment"
      }
     },
     "outputs": [
      {
       "html": [
        "<div style=\"max-height:1000px;max-width:1500px;overflow:auto;\">\n",
        "<table border=\"1\" class=\"dataframe\">\n",
        "  <thead>\n",
        "    <tr style=\"text-align: right;\">\n",
        "      <th></th>\n",
        "      <th></th>\n",
        "      <th>Name</th>\n",
        "      <th>Employee Annual Salary</th>\n",
        "    </tr>\n",
        "    <tr>\n",
        "      <th>Department</th>\n",
        "      <th>Position Title</th>\n",
        "      <th></th>\n",
        "      <th></th>\n",
        "    </tr>\n",
        "  </thead>\n",
        "  <tbody>\n",
        "    <tr>\n",
        "      <th rowspan=\"5\" valign=\"top\">WATER MGMNT</th>\n",
        "      <th>WATER RATE TAKER</th>\n",
        "      <td>  AARON,  ELVIA J</td>\n",
        "      <td> $85512.00</td>\n",
        "    </tr>\n",
        "    <tr>\n",
        "      <th>WATER RATE TAKER</th>\n",
        "      <td> BOLTON,  BRIAN E</td>\n",
        "      <td> $71040.00</td>\n",
        "    </tr>\n",
        "    <tr>\n",
        "      <th>WATER RATE TAKER</th>\n",
        "      <td> BROWN,  SHARON L</td>\n",
        "      <td> $77952.00</td>\n",
        "    </tr>\n",
        "    <tr>\n",
        "      <th>WATER RATE TAKER</th>\n",
        "      <td>    BURT,  CARL S</td>\n",
        "      <td> $85512.00</td>\n",
        "    </tr>\n",
        "    <tr>\n",
        "      <th>WATER RATE TAKER</th>\n",
        "      <td>   CAGE,  OPHELIA</td>\n",
        "      <td> $85512.00</td>\n",
        "    </tr>\n",
        "  </tbody>\n",
        "</table>\n",
        "</div>"
       ],
       "metadata": {},
       "output_type": "pyout",
       "prompt_number": 208,
       "text": [
        "                                          Name Employee Annual Salary\n",
        "Department  Position Title                                           \n",
        "WATER MGMNT WATER RATE TAKER   AARON,  ELVIA J              $85512.00\n",
        "            WATER RATE TAKER  BOLTON,  BRIAN E              $71040.00\n",
        "            WATER RATE TAKER  BROWN,  SHARON L              $77952.00\n",
        "            WATER RATE TAKER     BURT,  CARL S              $85512.00\n",
        "            WATER RATE TAKER    CAGE,  OPHELIA              $85512.00"
       ]
      }
     ],
     "prompt_number": 208
    },
    {
     "cell_type": "code",
     "collapsed": false,
     "input": [
      "salary_data.sort_index().index.lexsort_depth"
     ],
     "language": "python",
     "metadata": {
      "internals": {
       "frag_helper": "fragment_end",
       "frag_number": 57
      },
      "slideshow": {
       "slide_type": "fragment"
      }
     },
     "outputs": [
      {
       "metadata": {},
       "output_type": "pyout",
       "prompt_number": 219,
       "text": [
        "2"
       ]
      }
     ],
     "prompt_number": 219
    },
    {
     "cell_type": "code",
     "collapsed": false,
     "input": [
      "salary_data.sort_index().sortlevel(0)"
     ],
     "language": "python",
     "metadata": {
      "internals": {
       "frag_helper": "fragment_end",
       "frag_number": 58
      },
      "slideshow": {
       "slide_type": "fragment"
      }
     },
     "outputs": [
      {
       "ename": "TypeError",
       "evalue": "can only sort by level with a hierarchical index",
       "output_type": "pyerr",
       "traceback": [
        "\u001b[0;31m---------------------------------------------------------------------------\u001b[0m\n\u001b[0;31mTypeError\u001b[0m                                 Traceback (most recent call last)",
        "\u001b[0;32m<ipython-input-259-ef45a6a733c5>\u001b[0m in \u001b[0;36m<module>\u001b[0;34m()\u001b[0m\n\u001b[0;32m----> 1\u001b[0;31m \u001b[0msalary_data\u001b[0m\u001b[0;34m.\u001b[0m\u001b[0msort_index\u001b[0m\u001b[0;34m(\u001b[0m\u001b[0;34m)\u001b[0m\u001b[0;34m.\u001b[0m\u001b[0msortlevel\u001b[0m\u001b[0;34m(\u001b[0m\u001b[0;36m0\u001b[0m\u001b[0;34m)\u001b[0m\u001b[0;34m\u001b[0m\u001b[0m\n\u001b[0m",
        "\u001b[0;32m//anaconda/lib/python2.7/site-packages/pandas/core/frame.pyc\u001b[0m in \u001b[0;36msortlevel\u001b[0;34m(self, level, axis, ascending, inplace, sort_remaining)\u001b[0m\n\u001b[1;32m   2695\u001b[0m         \u001b[0mthe_axis\u001b[0m \u001b[0;34m=\u001b[0m \u001b[0mself\u001b[0m\u001b[0;34m.\u001b[0m\u001b[0m_get_axis\u001b[0m\u001b[0;34m(\u001b[0m\u001b[0maxis\u001b[0m\u001b[0;34m)\u001b[0m\u001b[0;34m\u001b[0m\u001b[0m\n\u001b[1;32m   2696\u001b[0m         \u001b[0;32mif\u001b[0m \u001b[0;32mnot\u001b[0m \u001b[0misinstance\u001b[0m\u001b[0;34m(\u001b[0m\u001b[0mthe_axis\u001b[0m\u001b[0;34m,\u001b[0m \u001b[0mMultiIndex\u001b[0m\u001b[0;34m)\u001b[0m\u001b[0;34m:\u001b[0m\u001b[0;34m\u001b[0m\u001b[0m\n\u001b[0;32m-> 2697\u001b[0;31m             \u001b[0;32mraise\u001b[0m \u001b[0mTypeError\u001b[0m\u001b[0;34m(\u001b[0m\u001b[0;34m'can only sort by level with a hierarchical index'\u001b[0m\u001b[0;34m)\u001b[0m\u001b[0;34m\u001b[0m\u001b[0m\n\u001b[0m\u001b[1;32m   2698\u001b[0m \u001b[0;34m\u001b[0m\u001b[0m\n\u001b[1;32m   2699\u001b[0m         new_axis, indexer = the_axis.sortlevel(level, ascending=ascending,\n",
        "\u001b[0;31mTypeError\u001b[0m: can only sort by level with a hierarchical index"
       ]
      }
     ],
     "prompt_number": 259
    },
    {
     "cell_type": "code",
     "collapsed": false,
     "input": [
      "salary_data.sort_index().sortlevel(1).head()"
     ],
     "language": "python",
     "metadata": {
      "internals": {
       "frag_helper": "fragment_end",
       "frag_number": 59,
       "slide_helper": "subslide_end"
      },
      "slide_helper": "slide_end",
      "slideshow": {
       "slide_type": "fragment"
      }
     },
     "outputs": [
      {
       "html": [
        "<div style=\"max-height:1000px;max-width:1500px;overflow:auto;\">\n",
        "<table border=\"1\" class=\"dataframe\">\n",
        "  <thead>\n",
        "    <tr style=\"text-align: right;\">\n",
        "      <th></th>\n",
        "      <th></th>\n",
        "      <th>Name</th>\n",
        "      <th>Employee Annual Salary</th>\n",
        "    </tr>\n",
        "    <tr>\n",
        "      <th>Department</th>\n",
        "      <th>Position Title</th>\n",
        "      <th></th>\n",
        "      <th></th>\n",
        "    </tr>\n",
        "  </thead>\n",
        "  <tbody>\n",
        "    <tr>\n",
        "      <th rowspan=\"4\" valign=\"top\">BOARD OF ELECTION</th>\n",
        "      <th>A/MGR COM SVC-ELECTIONS</th>\n",
        "      <td>         GRIMM,  LAURA A</td>\n",
        "      <td> $99816.00</td>\n",
        "    </tr>\n",
        "    <tr>\n",
        "      <th>A/MGR OF MIS-ELECTIONS</th>\n",
        "      <td>           TRAN,  TIEN K</td>\n",
        "      <td> $91260.00</td>\n",
        "    </tr>\n",
        "    <tr>\n",
        "      <th>A/SUPRV REDISTRICTING</th>\n",
        "      <td>       MILLER,  THOMAS F</td>\n",
        "      <td> $69564.00</td>\n",
        "    </tr>\n",
        "    <tr>\n",
        "      <th>A/SUPRV REDISTRICTING</th>\n",
        "      <td> TOMECEK,  CHRISTOPHER J</td>\n",
        "      <td> $44604.00</td>\n",
        "    </tr>\n",
        "    <tr>\n",
        "      <th>GENERAL SERVICES</th>\n",
        "      <th>ACCIDENT ADJUSTER</th>\n",
        "      <td>     CUCHETTO,  EUGENE P</td>\n",
        "      <td> $72936.00</td>\n",
        "    </tr>\n",
        "  </tbody>\n",
        "</table>\n",
        "</div>"
       ],
       "metadata": {},
       "output_type": "pyout",
       "prompt_number": 223,
       "text": [
        "                                                              Name  \\\n",
        "Department        Position Title                                     \n",
        "BOARD OF ELECTION A/MGR COM SVC-ELECTIONS          GRIMM,  LAURA A   \n",
        "                  A/MGR OF MIS-ELECTIONS             TRAN,  TIEN K   \n",
        "                  A/SUPRV REDISTRICTING          MILLER,  THOMAS F   \n",
        "                  A/SUPRV REDISTRICTING    TOMECEK,  CHRISTOPHER J   \n",
        "GENERAL SERVICES  ACCIDENT ADJUSTER            CUCHETTO,  EUGENE P   \n",
        "\n",
        "                                          Employee Annual Salary  \n",
        "Department        Position Title                                  \n",
        "BOARD OF ELECTION A/MGR COM SVC-ELECTIONS              $99816.00  \n",
        "                  A/MGR OF MIS-ELECTIONS               $91260.00  \n",
        "                  A/SUPRV REDISTRICTING                $69564.00  \n",
        "                  A/SUPRV REDISTRICTING                $44604.00  \n",
        "GENERAL SERVICES  ACCIDENT ADJUSTER                    $72936.00  "
       ]
      }
     ],
     "prompt_number": 223
    },
    {
     "cell_type": "markdown",
     "metadata": {
      "internals": {
       "frag_helper": "fragment_end",
       "frag_number": 59,
       "slide_helper": "subslide_end",
       "slide_type": "subslide"
      },
      "slide_helper": "slide_end",
      "slideshow": {
       "slide_type": "slide"
      }
     },
     "source": [
      "### What have we learnt so far\n",
      "\n",
      "- How to create a Series & DataFrame\n",
      "- How to read get data from various formats and read it into a DataFrame\n",
      "- How to access specific data\n",
      "- Multilevel Index Basics"
     ]
    },
    {
     "cell_type": "markdown",
     "metadata": {
      "internals": {
       "frag_helper": "fragment_end",
       "frag_number": 59,
       "slide_helper": "subslide_end",
       "slide_type": "subslide"
      },
      "slide_helper": "slide_end",
      "slideshow": {
       "slide_type": "slide"
      }
     },
     "source": [
      "### We shall now try to learn some pandas features through usecases"
     ]
    },
    {
     "cell_type": "markdown",
     "metadata": {
      "internals": {
       "frag_helper": "fragment_end",
       "frag_number": 59,
       "slide_helper": "subslide_end",
       "slide_type": "subslide"
      },
      "slide_helper": "slide_end",
      "slideshow": {
       "slide_type": "slide"
      }
     },
     "source": [
      "### Use Case #1 : The 'Money Ball' Problem\n",
      "\n",
      "The first usecase we are going to look at is that of Ram, an IPL Team Selector working for a new team, Telangana Tigers.\n",
      "\n",
      "The Team is yet to bid for players and are having a tough time finding out whom to select.\n",
      "\n",
      "Money seems to be a problem with the team for now and Ram is on his own. Fortunately he has an IT friend, Chandu, who specializes in Data Analysis.\n",
      "\n",
      "Lets look at how chandu solves the problem of finding the best players for T.Tigers provided there's a limited budget."
     ]
    },
    {
     "cell_type": "markdown",
     "metadata": {
      "slideshow": {
       "slide_type": "slide"
      }
     },
     "source": [
      "### Use Case #2 : The Old Hollywood Director\n",
      "\n",
      "The second usecase we are going to look at is that of an old hollywood director who is looking for actors for his next movie.\n",
      "\n",
      "He used to be a big shot in the 80's but took a long break. Now he is not familiar with half of the new actors. He too, fortunately, has a good friend who'd like to use data from Imdb and themoviedb websites for getting insights, on who could be the most bankable actors.\n",
      "\n",
      "let's see how he solves this problem."
     ]
    }
   ],
   "metadata": {}
  }
 ]
}